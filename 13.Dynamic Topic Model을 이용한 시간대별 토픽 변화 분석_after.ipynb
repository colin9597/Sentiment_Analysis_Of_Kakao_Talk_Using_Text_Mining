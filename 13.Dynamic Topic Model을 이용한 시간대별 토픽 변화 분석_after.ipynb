{
 "cells": [
  {
   "cell_type": "markdown",
   "metadata": {},
   "source": [
    "# LDA에서 Dynamic Topic Model"
   ]
  },
  {
   "cell_type": "markdown",
   "metadata": {},
   "source": [
    "<img src=\"figs/dtm_fig.png\">"
   ]
  },
  {
   "cell_type": "markdown",
   "metadata": {},
   "source": [
    "* LDA를 time slice 단위로 여러개를 붙인 형태\n",
    "* 토픽 분포에 해당하는 파라미터인 Beta값을 time slice가 넘어갈때 넘겨주는 것으로 시간대별 토픽 분포를 반영하게 함"
   ]
  },
  {
   "cell_type": "markdown",
   "metadata": {},
   "source": [
    "<img src=\"figs/dtm_fig2.png\">"
   ]
  },
  {
   "cell_type": "markdown",
   "metadata": {},
   "source": [
    "### 1. 대화내용 불러오기"
   ]
  },
  {
   "cell_type": "code",
   "execution_count": 1,
   "metadata": {},
   "outputs": [],
   "source": [
    "import pandas as pd\n",
    "import numpy as np\n",
    "import pickle\n",
    "from pprint import pprint\n",
    "import re"
   ]
  },
  {
   "cell_type": "code",
   "execution_count": 2,
   "metadata": {},
   "outputs": [
    {
     "name": "stdout",
     "output_type": "stream",
     "text": [
      "         Date   Speaker timetype   time contents\n",
      "0  2021-06-14  김태환 형 17       오전   6:01      고민중\n",
      "1  2021-06-14    이현직 16       오전   8:00      셤잘쳐\n",
      "2  2021-06-14  김태환 형 17       오전   8:00      귀여워\n",
      "3  2021-06-14  김태환 형 17       오전  10:07       시발\n",
      "4  2021-06-14  김태환 형 17       오전  10:08   담배가 쓰다\n",
      "<class 'pandas.core.frame.DataFrame'>\n",
      "RangeIndex: 980 entries, 0 to 979\n",
      "Data columns (total 5 columns):\n",
      " #   Column    Non-Null Count  Dtype \n",
      "---  ------    --------------  ----- \n",
      " 0   Date      980 non-null    object\n",
      " 1   Speaker   980 non-null    object\n",
      " 2   timetype  980 non-null    object\n",
      " 3   time      980 non-null    object\n",
      " 4   contents  980 non-null    object\n",
      "dtypes: object(5)\n",
      "memory usage: 38.4+ KB\n",
      "None\n"
     ]
    }
   ],
   "source": [
    "with open(\"./cleaned_data.pk\", \"rb\") as f:\n",
    "    data = pickle.load(f)\n",
    "\n",
    "data.reset_index(drop=True, inplace=True)\n",
    "print(data.head())\n",
    "print(data.info())"
   ]
  },
  {
   "cell_type": "markdown",
   "metadata": {},
   "source": [
    "### 2. 분석시기 설정하기"
   ]
  },
  {
   "cell_type": "code",
   "execution_count": 3,
   "metadata": {},
   "outputs": [
    {
     "name": "stdout",
     "output_type": "stream",
     "text": [
      "0     2021-06-14\n",
      "1     2021-06-14\n",
      "2     2021-06-14\n",
      "3     2021-06-14\n",
      "4     2021-06-14\n",
      "         ...    \n",
      "975   2021-06-30\n",
      "976   2021-06-30\n",
      "977   2021-06-30\n",
      "978   2021-06-30\n",
      "979   2021-06-30\n",
      "Name: Date, Length: 980, dtype: datetime64[ns]\n"
     ]
    },
    {
     "data": {
      "text/html": [
       "<div>\n",
       "<style scoped>\n",
       "    .dataframe tbody tr th:only-of-type {\n",
       "        vertical-align: middle;\n",
       "    }\n",
       "\n",
       "    .dataframe tbody tr th {\n",
       "        vertical-align: top;\n",
       "    }\n",
       "\n",
       "    .dataframe thead th {\n",
       "        text-align: right;\n",
       "    }\n",
       "</style>\n",
       "<table border=\"1\" class=\"dataframe\">\n",
       "  <thead>\n",
       "    <tr style=\"text-align: right;\">\n",
       "      <th></th>\n",
       "      <th>Speaker</th>\n",
       "      <th>timetype</th>\n",
       "      <th>time</th>\n",
       "      <th>contents</th>\n",
       "    </tr>\n",
       "    <tr>\n",
       "      <th>Date</th>\n",
       "      <th></th>\n",
       "      <th></th>\n",
       "      <th></th>\n",
       "      <th></th>\n",
       "    </tr>\n",
       "  </thead>\n",
       "  <tbody>\n",
       "    <tr>\n",
       "      <th>2021-06-14</th>\n",
       "      <td>김태환 형 17</td>\n",
       "      <td>오전</td>\n",
       "      <td>6:01</td>\n",
       "      <td>고민중</td>\n",
       "    </tr>\n",
       "    <tr>\n",
       "      <th>2021-06-14</th>\n",
       "      <td>이현직 16</td>\n",
       "      <td>오전</td>\n",
       "      <td>8:00</td>\n",
       "      <td>셤잘쳐</td>\n",
       "    </tr>\n",
       "    <tr>\n",
       "      <th>2021-06-14</th>\n",
       "      <td>김태환 형 17</td>\n",
       "      <td>오전</td>\n",
       "      <td>8:00</td>\n",
       "      <td>귀여워</td>\n",
       "    </tr>\n",
       "    <tr>\n",
       "      <th>2021-06-14</th>\n",
       "      <td>김태환 형 17</td>\n",
       "      <td>오전</td>\n",
       "      <td>10:07</td>\n",
       "      <td>시발</td>\n",
       "    </tr>\n",
       "    <tr>\n",
       "      <th>2021-06-14</th>\n",
       "      <td>김태환 형 17</td>\n",
       "      <td>오전</td>\n",
       "      <td>10:08</td>\n",
       "      <td>담배가 쓰다</td>\n",
       "    </tr>\n",
       "  </tbody>\n",
       "</table>\n",
       "</div>"
      ],
      "text/plain": [
       "             Speaker timetype   time contents\n",
       "Date                                         \n",
       "2021-06-14  김태환 형 17       오전   6:01      고민중\n",
       "2021-06-14    이현직 16       오전   8:00      셤잘쳐\n",
       "2021-06-14  김태환 형 17       오전   8:00      귀여워\n",
       "2021-06-14  김태환 형 17       오전  10:07       시발\n",
       "2021-06-14  김태환 형 17       오전  10:08   담배가 쓰다"
      ]
     },
     "execution_count": 3,
     "metadata": {},
     "output_type": "execute_result"
    }
   ],
   "source": [
    "# 시간정보 열 datetime 정보로 변환\n",
    "data[\"Date\"] = pd.to_datetime(data[\"Date\"])\n",
    "print(data[\"Date\"])\n",
    "\n",
    "# 인덱스 넣기\n",
    "data = data.set_index(\"Date\")\n",
    "data.head()"
   ]
  },
  {
   "cell_type": "markdown",
   "metadata": {},
   "source": [
    "#### 연도별 대화내용 분리 (DTM 분석을 위해)"
   ]
  },
  {
   "cell_type": "code",
   "execution_count": 4,
   "metadata": {},
   "outputs": [],
   "source": [
    "# 지정된 시기별로 분리\n",
    "day10 = data[\"2021-06-10\" : \"2021-06-19\"]\n",
    "day20 = data[\"2021-06-20\" : \"2021-06-29\"]\n",
    "day30 = data[\"2021-06-30\" : \"2021-06-30\"]"
   ]
  },
  {
   "cell_type": "code",
   "execution_count": 5,
   "metadata": {},
   "outputs": [
    {
     "name": "stdout",
     "output_type": "stream",
     "text": [
      "             Speaker timetype   time contents\n",
      "Date                                         \n",
      "2021-06-14  김태환 형 17       오전   6:01      고민중\n",
      "2021-06-14    이현직 16       오전   8:00      셤잘쳐\n",
      "2021-06-14  김태환 형 17       오전   8:00      귀여워\n",
      "2021-06-14  김태환 형 17       오전  10:07       시발\n",
      "2021-06-14  김태환 형 17       오전  10:08   담배가 쓰다\n",
      "             Speaker timetype  time  \\\n",
      "Date                                  \n",
      "2021-06-21  김태환 형 17       오후  2:53   \n",
      "2021-06-21  김태환 형 17       오후  2:53   \n",
      "2021-06-21  김표선 형 16       오후  3:06   \n",
      "2021-06-21  김표선 형 16       오후  3:06   \n",
      "2021-06-21  김태환 형 17       오후  3:12   \n",
      "\n",
      "                                              contents  \n",
      "Date                                                    \n",
      "2021-06-21  위상 진짜 takehome 시험인데 30점만점에 평균이 어떻게 17점이나오지  \n",
      "2021-06-21                     구글링도 허용인데 이걸 던지는 놈들이 있네  \n",
      "2021-06-21                                       17점이면  \n",
      "2021-06-21                                     잘나온거아니냐  \n",
      "2021-06-21                     구글이랑 강의노트 보면 반 이상은 나오는데  \n",
      "             Speaker timetype   time            contents\n",
      "Date                                                    \n",
      "2021-06-30  김표선 형 16       오전   9:14               고토 비쁠\n",
      "2021-06-30  김표선 형 16       오전   9:14               만족한다 \n",
      "2021-06-30  김락원 형 15       오전   9:25         고토 비쁠은 잘한거지\n",
      "2021-06-30  김태환 형 17       오전  11:09  아  락 내가 어이스크림 함 살게\n",
      "2021-06-30  김태환 형 17       오전  11:09           동현이 빨리 까라\n"
     ]
    }
   ],
   "source": [
    "print(day10.head())\n",
    "print(day20.head())\n",
    "print(day30.head())"
   ]
  },
  {
   "cell_type": "code",
   "execution_count": 6,
   "metadata": {},
   "outputs": [
    {
     "name": "stdout",
     "output_type": "stream",
     "text": [
      "<class 'pandas.core.frame.DataFrame'>\n",
      "DatetimeIndex: 723 entries, 2021-06-14 to 2021-06-18\n",
      "Data columns (total 4 columns):\n",
      " #   Column    Non-Null Count  Dtype \n",
      "---  ------    --------------  ----- \n",
      " 0   Speaker   723 non-null    object\n",
      " 1   timetype  723 non-null    object\n",
      " 2   time      723 non-null    object\n",
      " 3   contents  723 non-null    object\n",
      "dtypes: object(4)\n",
      "memory usage: 28.2+ KB\n",
      "None\n",
      "<class 'pandas.core.frame.DataFrame'>\n",
      "DatetimeIndex: 206 entries, 2021-06-21 to 2021-06-29\n",
      "Data columns (total 4 columns):\n",
      " #   Column    Non-Null Count  Dtype \n",
      "---  ------    --------------  ----- \n",
      " 0   Speaker   206 non-null    object\n",
      " 1   timetype  206 non-null    object\n",
      " 2   time      206 non-null    object\n",
      " 3   contents  206 non-null    object\n",
      "dtypes: object(4)\n",
      "memory usage: 8.0+ KB\n",
      "None\n",
      "<class 'pandas.core.frame.DataFrame'>\n",
      "DatetimeIndex: 51 entries, 2021-06-30 to 2021-06-30\n",
      "Data columns (total 4 columns):\n",
      " #   Column    Non-Null Count  Dtype \n",
      "---  ------    --------------  ----- \n",
      " 0   Speaker   51 non-null     object\n",
      " 1   timetype  51 non-null     object\n",
      " 2   time      51 non-null     object\n",
      " 3   contents  51 non-null     object\n",
      "dtypes: object(4)\n",
      "memory usage: 2.0+ KB\n",
      "None\n"
     ]
    }
   ],
   "source": [
    "print(day10.info())\n",
    "print(day20.info())\n",
    "print(day30.info())"
   ]
  },
  {
   "cell_type": "markdown",
   "metadata": {},
   "source": [
    "> 데이터를 대충 균등하게 수를 맞춰주는게 좋음."
   ]
  },
  {
   "cell_type": "markdown",
   "metadata": {},
   "source": [
    "##### 시기별로 나눠서 데이터 저장하기"
   ]
  },
  {
   "cell_type": "code",
   "execution_count": 7,
   "metadata": {},
   "outputs": [],
   "source": [
    "# time_slice별로 데이터 갯수를 저장할 리스트 생성\n",
    "time_slice = []\n",
    "\n",
    "# 시기별 데이터 가져오기\n",
    "slice10 = list(day10[\"contents\"])\n",
    "slice20 = list(day20[\"contents\"])\n",
    "slice30 = list(day30[\"contents\"])\n",
    "\n",
    "# LDA 분석할 때와 비슷하게 모든 분석 대상 텍스트를 담는 리스트 생성\n",
    "tokenized_data = [msg.split() for msg in (slice10 + slice20 + slice30)]\n",
    "\n",
    "# 각 slice에 들어 있는 갯수를 원소로 갖는 리스트 생성\n",
    "time_slice.append(len(slice10))\n",
    "time_slice.append(len(slice20))\n",
    "time_slice.append(len(slice30))"
   ]
  },
  {
   "cell_type": "code",
   "execution_count": 8,
   "metadata": {},
   "outputs": [
    {
     "name": "stdout",
     "output_type": "stream",
     "text": [
      "980\n",
      "[723, 206, 51]\n",
      "['고민중', '셤잘쳐', '귀여워', '시발', '담배가 쓰다']\n",
      "['위상 진짜 takehome 시험인데 30점만점에 평균이 어떻게 17점이나오지', '구글링도 허용인데 이걸 던지는 놈들이 있네', '17점이면', '잘나온거아니냐', '구글이랑 강의노트 보면 반 이상은 나오는데']\n",
      "['고토 비쁠', '만족한다 ', ' 고토 비쁠은 잘한거지', '아  락 내가 어이스크림 함 살게', '동현이 빨리 까라']\n",
      "[['고민중'], ['셤잘쳐'], ['귀여워'], ['시발'], ['담배가', '쓰다']]\n"
     ]
    }
   ],
   "source": [
    "print(len(tokenized_data))\n",
    "print(time_slice)\n",
    "print(slice10[:5])\n",
    "print(slice20[:5])\n",
    "print(slice30[:5])\n",
    "pprint(tokenized_data[:5])"
   ]
  },
  {
   "cell_type": "markdown",
   "metadata": {},
   "source": [
    "### 3. Dynamic Topic Model 돌리기"
   ]
  },
  {
   "cell_type": "code",
   "execution_count": 9,
   "metadata": {},
   "outputs": [
    {
     "name": "stderr",
     "output_type": "stream",
     "text": [
      "C:\\Users\\colin\\anaconda3\\envs\\DH\\lib\\site-packages\\gensim\\similarities\\__init__.py:15: UserWarning: The gensim.similarities.levenshtein submodule is disabled, because the optional Levenshtein package <https://pypi.org/project/python-Levenshtein/> is unavailable. Install Levenhstein (e.g. `pip install python-Levenshtein`) to suppress this warning.\n",
      "  warnings.warn(msg)\n"
     ]
    }
   ],
   "source": [
    "from gensim.models import ldaseqmodel\n",
    "#from gensim.models import CoherenceModel\n",
    "from gensim.corpora import Dictionary, bleicorpus\n",
    "#from gensim.matutils import hellinger\n",
    "from gensim import corpora\n",
    "#from tqdm import tqdm_notebook\n",
    "#from time import time\n",
    "\n",
    "import os"
   ]
  },
  {
   "cell_type": "markdown",
   "metadata": {},
   "source": [
    "#### dictionary와 corpus 만들기"
   ]
  },
  {
   "cell_type": "code",
   "execution_count": 10,
   "metadata": {},
   "outputs": [],
   "source": [
    "# DTM dictionary 저장.\n",
    "if not os.path.exists(\"kakao(DTM)_dict\"):\n",
    "    dictionary = corpora.Dictionary(tokenized_data)\n",
    "    dictionary.save(\"kakao(DTM)_dict\")\n",
    "else:\n",
    "    dictionary = Dictionary.load(\"kakao(DTM)_dict\")\n",
    "\n",
    "\n",
    "# DTM Corpus 저장.\n",
    "if not os.path.exists('kakao(DTM)_corpus'):\n",
    "    corpus = [dictionary.doc2bow(doc) for doc in tokenized_data]\n",
    "    corpora.BleiCorpus.serialize('kakao(DTM)_corpus', corpus)\n",
    "else:\n",
    "    corpus = bleicorpus.BleiCorpus('kakao(DTM)_corpus')"
   ]
  },
  {
   "cell_type": "markdown",
   "metadata": {},
   "source": [
    "### Run DTM model "
   ]
  },
  {
   "cell_type": "code",
   "execution_count": 11,
   "metadata": {},
   "outputs": [
    {
     "name": "stderr",
     "output_type": "stream",
     "text": [
      "C:\\Users\\colin\\anaconda3\\envs\\DH\\lib\\site-packages\\gensim\\models\\ldaseqmodel.py:1478: RuntimeWarning: invalid value encountered in double_scalars\n",
      "  converged = np.fabs((lhood_old - lhood) / (lhood_old * total))\n",
      "C:\\Users\\colin\\anaconda3\\envs\\DH\\lib\\site-packages\\gensim\\models\\ldaseqmodel.py:297: RuntimeWarning: divide by zero encountered in double_scalars\n",
      "  convergence = np.fabs((bound - old_bound) / old_bound)\n",
      "C:\\Users\\colin\\anaconda3\\envs\\DH\\lib\\site-packages\\gensim\\models\\ldaseqmodel.py:1478: RuntimeWarning: invalid value encountered in double_scalars\n",
      "  converged = np.fabs((lhood_old - lhood) / (lhood_old * total))\n",
      "C:\\Users\\colin\\anaconda3\\envs\\DH\\lib\\site-packages\\gensim\\models\\ldaseqmodel.py:1478: RuntimeWarning: invalid value encountered in double_scalars\n",
      "  converged = np.fabs((lhood_old - lhood) / (lhood_old * total))\n",
      "C:\\Users\\colin\\anaconda3\\envs\\DH\\lib\\site-packages\\gensim\\models\\ldaseqmodel.py:1478: RuntimeWarning: invalid value encountered in double_scalars\n",
      "  converged = np.fabs((lhood_old - lhood) / (lhood_old * total))\n",
      "C:\\Users\\colin\\anaconda3\\envs\\DH\\lib\\site-packages\\gensim\\models\\ldaseqmodel.py:1478: RuntimeWarning: invalid value encountered in double_scalars\n",
      "  converged = np.fabs((lhood_old - lhood) / (lhood_old * total))\n",
      "C:\\Users\\colin\\anaconda3\\envs\\DH\\lib\\site-packages\\gensim\\models\\ldaseqmodel.py:1478: RuntimeWarning: invalid value encountered in double_scalars\n",
      "  converged = np.fabs((lhood_old - lhood) / (lhood_old * total))\n",
      "C:\\Users\\colin\\anaconda3\\envs\\DH\\lib\\site-packages\\gensim\\models\\ldaseqmodel.py:1478: RuntimeWarning: invalid value encountered in double_scalars\n",
      "  converged = np.fabs((lhood_old - lhood) / (lhood_old * total))\n",
      "C:\\Users\\colin\\anaconda3\\envs\\DH\\lib\\site-packages\\gensim\\models\\ldaseqmodel.py:1478: RuntimeWarning: invalid value encountered in double_scalars\n",
      "  converged = np.fabs((lhood_old - lhood) / (lhood_old * total))\n",
      "C:\\Users\\colin\\anaconda3\\envs\\DH\\lib\\site-packages\\gensim\\models\\ldaseqmodel.py:1478: RuntimeWarning: invalid value encountered in double_scalars\n",
      "  converged = np.fabs((lhood_old - lhood) / (lhood_old * total))\n",
      "C:\\Users\\colin\\anaconda3\\envs\\DH\\lib\\site-packages\\gensim\\models\\ldaseqmodel.py:1478: RuntimeWarning: invalid value encountered in double_scalars\n",
      "  converged = np.fabs((lhood_old - lhood) / (lhood_old * total))\n",
      "C:\\Users\\colin\\anaconda3\\envs\\DH\\lib\\site-packages\\gensim\\models\\ldaseqmodel.py:1478: RuntimeWarning: invalid value encountered in double_scalars\n",
      "  converged = np.fabs((lhood_old - lhood) / (lhood_old * total))\n",
      "C:\\Users\\colin\\anaconda3\\envs\\DH\\lib\\site-packages\\gensim\\models\\ldaseqmodel.py:1478: RuntimeWarning: invalid value encountered in double_scalars\n",
      "  converged = np.fabs((lhood_old - lhood) / (lhood_old * total))\n",
      "C:\\Users\\colin\\anaconda3\\envs\\DH\\lib\\site-packages\\gensim\\models\\ldaseqmodel.py:1478: RuntimeWarning: invalid value encountered in double_scalars\n",
      "  converged = np.fabs((lhood_old - lhood) / (lhood_old * total))\n",
      "C:\\Users\\colin\\anaconda3\\envs\\DH\\lib\\site-packages\\gensim\\models\\ldaseqmodel.py:1478: RuntimeWarning: invalid value encountered in double_scalars\n",
      "  converged = np.fabs((lhood_old - lhood) / (lhood_old * total))\n",
      "C:\\Users\\colin\\anaconda3\\envs\\DH\\lib\\site-packages\\gensim\\models\\ldaseqmodel.py:1478: RuntimeWarning: invalid value encountered in double_scalars\n",
      "  converged = np.fabs((lhood_old - lhood) / (lhood_old * total))\n",
      "C:\\Users\\colin\\anaconda3\\envs\\DH\\lib\\site-packages\\gensim\\models\\ldaseqmodel.py:1478: RuntimeWarning: invalid value encountered in double_scalars\n",
      "  converged = np.fabs((lhood_old - lhood) / (lhood_old * total))\n",
      "C:\\Users\\colin\\anaconda3\\envs\\DH\\lib\\site-packages\\gensim\\models\\ldaseqmodel.py:1478: RuntimeWarning: invalid value encountered in double_scalars\n",
      "  converged = np.fabs((lhood_old - lhood) / (lhood_old * total))\n",
      "C:\\Users\\colin\\anaconda3\\envs\\DH\\lib\\site-packages\\gensim\\models\\ldaseqmodel.py:1478: RuntimeWarning: invalid value encountered in double_scalars\n",
      "  converged = np.fabs((lhood_old - lhood) / (lhood_old * total))\n",
      "C:\\Users\\colin\\anaconda3\\envs\\DH\\lib\\site-packages\\gensim\\models\\ldaseqmodel.py:1478: RuntimeWarning: invalid value encountered in double_scalars\n",
      "  converged = np.fabs((lhood_old - lhood) / (lhood_old * total))\n",
      "C:\\Users\\colin\\anaconda3\\envs\\DH\\lib\\site-packages\\gensim\\models\\ldaseqmodel.py:1478: RuntimeWarning: invalid value encountered in double_scalars\n",
      "  converged = np.fabs((lhood_old - lhood) / (lhood_old * total))\n",
      "C:\\Users\\colin\\anaconda3\\envs\\DH\\lib\\site-packages\\gensim\\models\\ldaseqmodel.py:1478: RuntimeWarning: invalid value encountered in double_scalars\n",
      "  converged = np.fabs((lhood_old - lhood) / (lhood_old * total))\n"
     ]
    }
   ],
   "source": [
    "# 주의! 매우매우매우 오래걸릴지도 모릅니다... 시간과 여유가 있을때 해보세요!\n",
    "NUM_TOPICS = 4\n",
    "\n",
    "if not os.path.exists(\"kakao(DTM)_model\"):\n",
    "    dtm_model = ldaseqmodel.LdaSeqModel(corpus=corpus, id2word=dictionary, time_slice=time_slice, num_topics=NUM_TOPICS, passes=10)\n",
    "    dtm_model.save(\"kakao(DTM)_model\")\n",
    "else:\n",
    "    dtm_model = ldaseqmodel.LdaSeqModel.load(\"kakao(DTM)_model\")"
   ]
  },
  {
   "cell_type": "markdown",
   "metadata": {},
   "source": [
    "##### DTM 결과 보기"
   ]
  },
  {
   "cell_type": "code",
   "execution_count": 12,
   "metadata": {},
   "outputs": [
    {
     "name": "stdout",
     "output_type": "stream",
     "text": [
      "[[('난', 0.011823712585881219),\n",
      "  ('1', 0.010545052071412401),\n",
      "  ('아', 0.010523512021600559),\n",
      "  ('또', 0.010515348964588897),\n",
      "  ('오늘', 0.01050408021089675),\n",
      "  ('락원이', 0.009220096564257612),\n",
      "  ('다', 0.009205337139974337),\n",
      "  ('락원아', 0.009189636655599),\n",
      "  ('진짜', 0.009189015661037357),\n",
      "  ('동현이', 0.007929557569297887)],\n",
      " [('락원이', 0.028078132861481944),\n",
      "  ('태환', 0.014812078984784455),\n",
      "  ('왜', 0.0131236185239444),\n",
      "  ('지금', 0.01135175279676454),\n",
      "  ('존나', 0.009688260078705269),\n",
      "  ('현직이', 0.008240646227727513),\n",
      "  ('내일', 0.008232028986059584),\n",
      "  ('너무', 0.008205419107188543),\n",
      "  ('이거', 0.006608710212380627),\n",
      "  ('내', 0.00660871021238061)],\n",
      " [('나', 0.02840537133388891),\n",
      "  ('아', 0.020096978556572113),\n",
      "  ('난', 0.016984884283323138),\n",
      "  ('진짜', 0.013934354872377533),\n",
      "  ('그럼', 0.01083979087921919),\n",
      "  ('락원', 0.01082762315335926),\n",
      "  ('아니', 0.010819430730223048),\n",
      "  ('그냥', 0.010494030807506964),\n",
      "  ('좀', 0.009559786842434099),\n",
      "  ('이렇게', 0.009283248599728393)],\n",
      " [('니', 0.013866392389156752),\n",
      "  ('오늘', 0.013827216728798131),\n",
      "  ('동현이', 0.013605376235362234),\n",
      "  ('내일', 0.012101925477521449),\n",
      "  ('난', 0.012089393313113806),\n",
      "  ('아', 0.0120809131240764),\n",
      "  ('내가', 0.010380024227820006),\n",
      "  ('하', 0.00866617098592667),\n",
      "  ('동현', 0.008665817164253718),\n",
      "  ('동현아', 0.00865798893597101)]]\n"
     ]
    }
   ],
   "source": [
    "# 고정된 시간 내에서 전체 토픽보기\n",
    "pprint(dtm_model.print_topics(time=0, top_terms=10))"
   ]
  },
  {
   "cell_type": "code",
   "execution_count": 13,
   "metadata": {},
   "outputs": [
    {
     "name": "stdout",
     "output_type": "stream",
     "text": [
      "[[('난', 0.011883406853342441),\n",
      "  ('또', 0.010578819129238432),\n",
      "  ('오늘', 0.010574312597671168),\n",
      "  ('아', 0.010542461950995488),\n",
      "  ('1', 0.01051259047929246),\n",
      "  ('락원아', 0.009304285572794852),\n",
      "  ('진짜', 0.009261376778611613),\n",
      "  ('다', 0.009237878460850281),\n",
      "  ('락원이', 0.009207075729403017),\n",
      "  ('동현이', 0.007881525283134563)],\n",
      " [('락원이', 0.028222770749637156),\n",
      "  ('태환', 0.014719087195360607),\n",
      "  ('왜', 0.013191745121053988),\n",
      "  ('지금', 0.011317920625142766),\n",
      "  ('존나', 0.009714836418105782),\n",
      "  ('너무', 0.008313342417078061),\n",
      "  ('현직이', 0.00822158265869537),\n",
      "  ('내일', 0.008216034756395022),\n",
      "  ('때', 0.006658382596493378),\n",
      "  ('이제', 0.006655460798184122)],\n",
      " [('나', 0.029126169885841033),\n",
      "  ('아', 0.020101218660737753),\n",
      "  ('난', 0.01700659179867647),\n",
      "  ('진짜', 0.013873432743754296),\n",
      "  ('락원', 0.010807063201045767),\n",
      "  ('아니', 0.010801622658560734),\n",
      "  ('그럼', 0.01076482646015651),\n",
      "  ('그냥', 0.010583894906651344),\n",
      "  ('좀', 0.00960658207679994),\n",
      "  ('이렇게', 0.009277256811591042)],\n",
      " [('오늘', 0.01386520174354237),\n",
      "  ('니', 0.013828376130060282),\n",
      "  ('동현이', 0.013639989720493921),\n",
      "  ('난', 0.012204402081704925),\n",
      "  ('아', 0.012185708898274972),\n",
      "  ('내일', 0.012143792999959758),\n",
      "  ('내가', 0.010381051634585373),\n",
      "  ('김태환', 0.008726606009207067),\n",
      "  ('야', 0.008722508112790617),\n",
      "  ('락원이', 0.008667306586348933)]]\n"
     ]
    }
   ],
   "source": [
    "pprint(dtm_model.print_topics(time=1, top_terms=10))"
   ]
  }
 ],
 "metadata": {
  "kernelspec": {
   "display_name": "Python 3",
   "language": "python",
   "name": "python3"
  },
  "language_info": {
   "codemirror_mode": {
    "name": "ipython",
    "version": 3
   },
   "file_extension": ".py",
   "mimetype": "text/x-python",
   "name": "python",
   "nbconvert_exporter": "python",
   "pygments_lexer": "ipython3",
   "version": "3.8.10"
  }
 },
 "nbformat": 4,
 "nbformat_minor": 2
}
