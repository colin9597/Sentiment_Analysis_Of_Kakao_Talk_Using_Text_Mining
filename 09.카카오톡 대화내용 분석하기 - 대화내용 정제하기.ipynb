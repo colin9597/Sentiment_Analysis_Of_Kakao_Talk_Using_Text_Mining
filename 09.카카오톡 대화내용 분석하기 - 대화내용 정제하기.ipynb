{
 "cells": [
  {
   "cell_type": "markdown",
   "metadata": {},
   "source": [
    "### txt 파일 전처리"
   ]
  },
  {
   "cell_type": "code",
   "execution_count": 1,
   "metadata": {},
   "outputs": [
    {
     "name": "stdout",
     "output_type": "stream",
     "text": [
      "<class 'pandas.core.frame.DataFrame'>\n",
      "RangeIndex: 1098 entries, 0 to 1097\n",
      "Data columns (total 5 columns):\n",
      " #   Column    Non-Null Count  Dtype \n",
      "---  ------    --------------  ----- \n",
      " 0   Date      1098 non-null   object\n",
      " 1   Speaker   1098 non-null   object\n",
      " 2   timetype  1098 non-null   object\n",
      " 3   time      1098 non-null   object\n",
      " 4   contents  1098 non-null   object\n",
      "dtypes: object(5)\n",
      "memory usage: 43.0+ KB\n",
      "None\n"
     ]
    },
    {
     "data": {
      "text/html": [
       "<div>\n",
       "<style scoped>\n",
       "    .dataframe tbody tr th:only-of-type {\n",
       "        vertical-align: middle;\n",
       "    }\n",
       "\n",
       "    .dataframe tbody tr th {\n",
       "        vertical-align: top;\n",
       "    }\n",
       "\n",
       "    .dataframe thead th {\n",
       "        text-align: right;\n",
       "    }\n",
       "</style>\n",
       "<table border=\"1\" class=\"dataframe\">\n",
       "  <thead>\n",
       "    <tr style=\"text-align: right;\">\n",
       "      <th></th>\n",
       "      <th>Date</th>\n",
       "      <th>Speaker</th>\n",
       "      <th>timetype</th>\n",
       "      <th>time</th>\n",
       "      <th>contents</th>\n",
       "    </tr>\n",
       "  </thead>\n",
       "  <tbody>\n",
       "    <tr>\n",
       "      <th>0</th>\n",
       "      <td>2021-06-14</td>\n",
       "      <td>김태환 형 17</td>\n",
       "      <td>오전</td>\n",
       "      <td>6:01</td>\n",
       "      <td>고민중ㅋㅋ</td>\n",
       "    </tr>\n",
       "    <tr>\n",
       "      <th>1</th>\n",
       "      <td>2021-06-14</td>\n",
       "      <td>이현직 16</td>\n",
       "      <td>오전</td>\n",
       "      <td>8:00</td>\n",
       "      <td>셤잘쳐</td>\n",
       "    </tr>\n",
       "    <tr>\n",
       "      <th>2</th>\n",
       "      <td>2021-06-14</td>\n",
       "      <td>김태환 형 17</td>\n",
       "      <td>오전</td>\n",
       "      <td>8:00</td>\n",
       "      <td>ㅋㅋㅋㅋ귀여워</td>\n",
       "    </tr>\n",
       "    <tr>\n",
       "      <th>3</th>\n",
       "      <td>2021-06-14</td>\n",
       "      <td>김태환 형 17</td>\n",
       "      <td>오전</td>\n",
       "      <td>10:07</td>\n",
       "      <td>시발</td>\n",
       "    </tr>\n",
       "    <tr>\n",
       "      <th>4</th>\n",
       "      <td>2021-06-14</td>\n",
       "      <td>김태환 형 17</td>\n",
       "      <td>오전</td>\n",
       "      <td>10:08</td>\n",
       "      <td>담배가 쓰다</td>\n",
       "    </tr>\n",
       "  </tbody>\n",
       "</table>\n",
       "</div>"
      ],
      "text/plain": [
       "         Date   Speaker timetype   time contents\n",
       "0  2021-06-14  김태환 형 17       오전   6:01    고민중ㅋㅋ\n",
       "1  2021-06-14    이현직 16       오전   8:00      셤잘쳐\n",
       "2  2021-06-14  김태환 형 17       오전   8:00  ㅋㅋㅋㅋ귀여워\n",
       "3  2021-06-14  김태환 형 17       오전  10:07       시발\n",
       "4  2021-06-14  김태환 형 17       오전  10:08   담배가 쓰다"
      ]
     },
     "execution_count": 1,
     "metadata": {},
     "output_type": "execute_result"
    }
   ],
   "source": [
    "# 코드 인용 https://github.com/ssooni/data_mining_practice\n",
    "import re\n",
    "import pandas as pd\n",
    "import datetime as dt\n",
    "\n",
    "def read_kko_msg(filename):\n",
    "    with open(filename, encoding='utf-8') as f:\n",
    "        msg_list = f.readlines()\n",
    "    return msg_list\n",
    "\n",
    "def apply_kko_regex(msg_list):\n",
    "    kko_pattern = re.compile(\"\\[([\\S\\s]+)\\] \\[(오전|오후) ([0-9:\\s]+)\\] ([^\\n]+)\")\n",
    "    kko_date_pattern = re.compile(\"--------------- ([0-9]+년 [0-9]+월 [0-9]+일) \")\n",
    "\n",
    "    emoji_pattern = re.compile(\"[\"u\"\\U0001F600-\\U0001F64F\"  # emoticons\n",
    "                               u\"\\U0001F300-\\U0001F5FF\"  # symbols & pictographs\n",
    "                               u\"\\U0001F680-\\U0001F6FF\"  # transport & map symbols\n",
    "                               u\"\\U0001F1E0-\\U0001F1FF\"  # flags (iOS)\n",
    "                               \"]+\", flags=re.UNICODE)\n",
    "\n",
    "    kko_parse_result = list()\n",
    "    cur_date = \"\"\n",
    "\n",
    "    for msg in msg_list:\n",
    "        # 날짜 부분인 경우\n",
    "        if len(kko_date_pattern.findall(msg)) > 0:\n",
    "            cur_date = dt.datetime.strptime(kko_date_pattern.findall(msg)[0], \"%Y년 %m월 %d일\")\n",
    "            cur_date = cur_date.strftime(\"%Y-%m-%d\")\n",
    "        else:\n",
    "            kko_pattern_result = kko_pattern.findall(msg)\n",
    "            if len(kko_pattern_result) > 0:\n",
    "                tokens = list(kko_pattern_result[0])\n",
    "                # 이모지 데이터 삭제\n",
    "                tokens[-1] = re.sub(emoji_pattern, \"\", tokens[-1])\n",
    "                tokens.insert(0, cur_date)\n",
    "                kko_parse_result.append(tokens)\n",
    "\n",
    "    kko_parse_result = pd.DataFrame(kko_parse_result, columns=[\"Date\", \"Speaker\", \"timetype\", \"time\", \"contents\"])\n",
    "    kko_parse_result.to_csv(\"kko_regex.csv\", index=False)\n",
    "\n",
    "    return kko_parse_result\n",
    "\n",
    "if __name__ == '__main__':\n",
    "    msg_list = read_kko_msg(\"Group_Talk.txt\")\n",
    "    apply_kko_regex(msg_list)\n",
    "\n",
    "# 전처리된 카카오톡 데이터를 불러와서 내용을 확인합니다.\n",
    "df = pd.read_csv(\"./kko_regex.csv\")\n",
    "print(df.info())\n",
    "df.head()"
   ]
  },
  {
   "cell_type": "code",
   "execution_count": 2,
   "metadata": {},
   "outputs": [
    {
     "data": {
      "text/plain": [
       "0                      고민중ㅋㅋ\n",
       "1                        셤잘쳐\n",
       "2                    ㅋㅋㅋㅋ귀여워\n",
       "3                         시발\n",
       "4                     담배가 쓰다\n",
       "                ...         \n",
       "1093    아니 난 잼민인인지 아닌지를 알고싶어\n",
       "1094    그냥 픽창에서 잼민이 많으면 닷지하게\n",
       "1095                      쓰발\n",
       "1096                   잼민이뱃지\n",
       "1097                이런거있음좋겧다\n",
       "Name: contents, Length: 1098, dtype: object"
      ]
     },
     "execution_count": 2,
     "metadata": {},
     "output_type": "execute_result"
    }
   ],
   "source": [
    "# 메세지만 따로 불러옵니다.\n",
    "corpus = df[\"contents\"]\n",
    "corpus"
   ]
  },
  {
   "cell_type": "code",
   "execution_count": 3,
   "metadata": {},
   "outputs": [
    {
     "name": "stdout",
     "output_type": "stream",
     "text": [
      "2724\n"
     ]
    }
   ],
   "source": [
    "# 데이터 전처리를 위한 전체 데이터의 특징을 빈도분석으로 파악해봅니다.\n",
    "import nltk\n",
    "\n",
    "total_tokens = [token for msg in corpus for token in str(msg).split()]\n",
    "print(len(total_tokens))"
   ]
  },
  {
   "cell_type": "code",
   "execution_count": 4,
   "metadata": {},
   "outputs": [
    {
     "name": "stdout",
     "output_type": "stream",
     "text": [
      "1929\n",
      "[('락원이', 28), ('난', 26), ('아', 23), ('진짜', 18), ('나', 18), ('오늘', 16), ('ㅋㅋ', 16), ('왜', 15), ('사진', 15), ('동현이', 14)]\n"
     ]
    }
   ],
   "source": [
    "text = nltk.Text(total_tokens, name='kakao')\n",
    "print(len(set(text.tokens)))\n",
    "print(text.vocab().most_common(10))"
   ]
  },
  {
   "cell_type": "code",
   "execution_count": 5,
   "metadata": {},
   "outputs": [
    {
     "data": {
      "image/png": "[encoded data removed]",
      "text/plain": [
       "<Figure size 1152x720 with 1 Axes>"
      ]
     },
     "metadata": {
      "needs_background": "light"
     },
     "output_type": "display_data"
    }
   ],
   "source": [
    "import matplotlib.pyplot as plt\n",
    "import platform\n",
    "from matplotlib import font_manager, rc\n",
    "%matplotlib inline\n",
    "\n",
    "path = \"c:/Windows/Fonts/malgun.ttf\"\n",
    "if platform.system() == 'Darwin':\n",
    "    rc('font', family='AppleGothic')\n",
    "elif platform.system() == 'Windows':\n",
    "    font_name = font_manager.FontProperties(fname=path).get_name()\n",
    "    rc('font', family=font_name)\n",
    "else:\n",
    "    print('Unknown system... sorry~~~~')\n",
    "\n",
    "plt.figure(figsize=(16, 10))\n",
    "text.plot(50)"
   ]
  },
  {
   "cell_type": "code",
   "execution_count": 6,
   "metadata": {},
   "outputs": [],
   "source": [
    "import re\n",
    "\n",
    "def message_cleaning(docs):\n",
    "\n",
    "    \"\"\"\n",
    "        1. Photo, Emoticon은 그 내용을 알 수 없으므로 제거.\n",
    "        \n",
    "        2. 자음/모음 표현 처리방법.\n",
    "        \n",
    "            1) \"ㅇㅇ\" ,\"ㅋㅋㅋㅋㅋ\" 같은 자음만 존재하는 표현이나, \"ㅡㅡ\", \"ㅠㅠ\" 같은 모음만 존재하는 표현들은\n",
    "            의미는 있으나 중요한 의미를 가지고 있지 않다고 판단하여 제거.\n",
    "            \n",
    "            2) 이러한 표현들도 전부 emoticon 같은 감정 표현의 의성어로 쓰거나, 단축 표현이므로 제거하지 않음. \n",
    "            \n",
    "        3. http:// 로 시작하는 hyperlink 제거.\n",
    "        \n",
    "        4. 특수문자 제거.\n",
    "    \n",
    "    \"\"\"\n",
    "    # Series의 object를 str로 변경.\n",
    "    docs = [str(doc) for doc in corpus]\n",
    "    \n",
    "    # 1\n",
    "    pattern1 = re.compile(\"사진|Emoticon\")\n",
    "    docs = [pattern1.sub(\"\", doc) for doc in docs]\n",
    "    \n",
    "    # 2\n",
    "    pattern2 = re.compile(\"[ㄱ-ㅎ]*|[ㅏ-ㅣ]*\")\n",
    "    docs = [pattern2.sub(\"\", doc) for doc in docs]\n",
    "    \n",
    "    # 3\n",
    "    pattern3 = re.compile(\"http[s]?://(?:[a-zA-Z]|[0-9]|[$\\-@\\.&+:/?=]|[!*\\(\\),]|(?:%[0-9a-fA-F][0-9a-fA-F]))+\")\n",
    "    docs = [pattern3.sub(\"\", doc) for doc in docs]\n",
    "    \n",
    "    # 4\n",
    "    pattern4 = re.compile(\"[-=+,#/\\?:^$.@*\\\"※~&%ㆍ!』\\\\‘|\\(\\)\\[\\]\\<\\>`\\'…》]\")\n",
    "    docs = [pattern4.sub(\"\", doc) for doc in docs]\n",
    "    \n",
    "    return docs\n",
    "\n",
    "def define_stopwords(path):\n",
    "    \n",
    "    SW = set()\n",
    "    # 불용어를 추가하는 방법 1.\n",
    "    # SW.add(\"있다\")\n",
    "    \n",
    "    # 불용어를 추가하는 방법 2.\n",
    "    # stopwords-ko.txt에 직접 추가\n",
    "    \n",
    "    with open(path, encoding='utf-8') as f:\n",
    "        for word in f:\n",
    "            SW.add(word)\n",
    "            \n",
    "    return SW\n",
    "\n",
    "def text_tokenizing(doc):\n",
    "    return [word for word in mecab.morphs(doc) if word not in SW and len(word) > 1]\n",
    "    \n",
    "    # wordcloud를 위해 명사만 추출하는 경우.\n",
    "    #return [word for word in mecab.nouns(doc) if word not in SW and len(word) > 1]"
   ]
  },
  {
   "cell_type": "code",
   "execution_count": 7,
   "metadata": {},
   "outputs": [
    {
     "name": "stdout",
     "output_type": "stream",
     "text": [
      "1098\n",
      "['고민중', '셤잘쳐', '귀여워', '시발', '담배가 쓰다', '왜', '담배가 더 쓰다', '락원아', '동현이가 저녁 먹으러 오래', '오키오키']\n"
     ]
    }
   ],
   "source": [
    "SW = define_stopwords(\"../Reference/stopwords-ko.txt\")\n",
    "# 카카오톡 텍스트를 정제합니다.\n",
    "cleaned_corpus = message_cleaning(corpus)\n",
    "print(len(cleaned_corpus))\n",
    "print(cleaned_corpus[:10])"
   ]
  },
  {
   "cell_type": "code",
   "execution_count": 8,
   "metadata": {},
   "outputs": [
    {
     "name": "stdout",
     "output_type": "stream",
     "text": [
      "<class 'pandas.core.frame.DataFrame'>\n",
      "Int64Index: 980 entries, 0 to 1097\n",
      "Data columns (total 5 columns):\n",
      " #   Column    Non-Null Count  Dtype \n",
      "---  ------    --------------  ----- \n",
      " 0   Date      980 non-null    object\n",
      " 1   Speaker   980 non-null    object\n",
      " 2   timetype  980 non-null    object\n",
      " 3   time      980 non-null    object\n",
      " 4   contents  980 non-null    object\n",
      "dtypes: object(5)\n",
      "memory usage: 45.9+ KB\n"
     ]
    }
   ],
   "source": [
    "# 정제되어 지워지는 텍스트들을 확인하고 지워줍니다.\n",
    "\n",
    "cleaned_text = pd.Series(cleaned_corpus)\n",
    "df[\"contents\"] = cleaned_text\n",
    "cleaned_data = df[df[\"contents\"] != \"\"]\n",
    "cleaned_data.info()"
   ]
  },
  {
   "cell_type": "code",
   "execution_count": 9,
   "metadata": {},
   "outputs": [
    {
     "data": {
      "text/html": [
       "<div>\n",
       "<style scoped>\n",
       "    .dataframe tbody tr th:only-of-type {\n",
       "        vertical-align: middle;\n",
       "    }\n",
       "\n",
       "    .dataframe tbody tr th {\n",
       "        vertical-align: top;\n",
       "    }\n",
       "\n",
       "    .dataframe thead th {\n",
       "        text-align: right;\n",
       "    }\n",
       "</style>\n",
       "<table border=\"1\" class=\"dataframe\">\n",
       "  <thead>\n",
       "    <tr style=\"text-align: right;\">\n",
       "      <th></th>\n",
       "      <th>Date</th>\n",
       "      <th>Speaker</th>\n",
       "      <th>timetype</th>\n",
       "      <th>time</th>\n",
       "      <th>contents</th>\n",
       "    </tr>\n",
       "  </thead>\n",
       "  <tbody>\n",
       "    <tr>\n",
       "      <th>0</th>\n",
       "      <td>2021-06-14</td>\n",
       "      <td>김태환 형 17</td>\n",
       "      <td>오전</td>\n",
       "      <td>6:01</td>\n",
       "      <td>고민중</td>\n",
       "    </tr>\n",
       "    <tr>\n",
       "      <th>1</th>\n",
       "      <td>2021-06-14</td>\n",
       "      <td>이현직 16</td>\n",
       "      <td>오전</td>\n",
       "      <td>8:00</td>\n",
       "      <td>셤잘쳐</td>\n",
       "    </tr>\n",
       "    <tr>\n",
       "      <th>2</th>\n",
       "      <td>2021-06-14</td>\n",
       "      <td>김태환 형 17</td>\n",
       "      <td>오전</td>\n",
       "      <td>8:00</td>\n",
       "      <td>귀여워</td>\n",
       "    </tr>\n",
       "    <tr>\n",
       "      <th>3</th>\n",
       "      <td>2021-06-14</td>\n",
       "      <td>김태환 형 17</td>\n",
       "      <td>오전</td>\n",
       "      <td>10:07</td>\n",
       "      <td>시발</td>\n",
       "    </tr>\n",
       "    <tr>\n",
       "      <th>4</th>\n",
       "      <td>2021-06-14</td>\n",
       "      <td>김태환 형 17</td>\n",
       "      <td>오전</td>\n",
       "      <td>10:08</td>\n",
       "      <td>담배가 쓰다</td>\n",
       "    </tr>\n",
       "  </tbody>\n",
       "</table>\n",
       "</div>"
      ],
      "text/plain": [
       "         Date   Speaker timetype   time contents\n",
       "0  2021-06-14  김태환 형 17       오전   6:01      고민중\n",
       "1  2021-06-14    이현직 16       오전   8:00      셤잘쳐\n",
       "2  2021-06-14  김태환 형 17       오전   8:00      귀여워\n",
       "3  2021-06-14  김태환 형 17       오전  10:07       시발\n",
       "4  2021-06-14  김태환 형 17       오전  10:08   담배가 쓰다"
      ]
     },
     "execution_count": 9,
     "metadata": {},
     "output_type": "execute_result"
    }
   ],
   "source": [
    "#결과를 확인합니다.\n",
    "cleaned_data.head()"
   ]
  },
  {
   "cell_type": "code",
   "execution_count": 10,
   "metadata": {},
   "outputs": [],
   "source": [
    "# 정제한 카카오톡 데이터를 저장합니다.\n",
    "\n",
    "import pickle\n",
    "\n",
    "with open(\"cleaned_data.pk\", \"wb\") as f:\n",
    "    pickle.dump(cleaned_data, f)"
   ]
  }
 ],
 "metadata": {
  "kernelspec": {
   "display_name": "Python 3",
   "language": "python",
   "name": "python3"
  },
  "language_info": {
   "codemirror_mode": {
    "name": "ipython",
    "version": 3
   },
   "file_extension": ".py",
   "mimetype": "text/x-python",
   "name": "python",
   "nbconvert_exporter": "python",
   "pygments_lexer": "ipython3",
   "version": "3.8.10"
  }
 },
 "nbformat": 4,
 "nbformat_minor": 2
}
