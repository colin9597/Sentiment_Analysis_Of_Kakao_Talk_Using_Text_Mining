{
  "nbformat": 4,
  "nbformat_minor": 0,
  "metadata": {
    "colab": {
      "name": "[실습]44.자연어처리를 위한 딥러닝1 - RNN, LSTM.ipynb",
      "private_outputs": true,
      "provenance": [],
      "collapsed_sections": [],
      "toc_visible": true
    },
    "kernelspec": {
      "display_name": "Python 3",
      "language": "python",
      "name": "python3"
    },
    "language_info": {
      "codemirror_mode": {
        "name": "ipython",
        "version": 3
      },
      "file_extension": ".py",
      "mimetype": "text/x-python",
      "name": "python",
      "nbconvert_exporter": "python",
      "pygments_lexer": "ipython3",
      "version": "3.7.5"
    },
    "accelerator": "GPU"
  },
  "cells": [
    {
      "cell_type": "markdown",
      "metadata": {
        "id": "zfiHTzhkmNwd"
      },
      "source": [
        "# RNN and LSTM with TF2.0"
      ]
    },
    {
      "cell_type": "markdown",
      "metadata": {
        "id": "QGJH5EKYoSHZ"
      },
      "source": [
        "## 라이브러리 불러오기"
      ]
    },
    {
      "cell_type": "code",
      "metadata": {
        "id": "wJEBe8hTlB6W"
      },
      "source": [
        "from __future__ import absolute_import, division, print_function, unicode_literals\n",
        "\n",
        "import collections\n",
        "import matplotlib.pyplot as plt\n",
        "import numpy as np\n",
        "\n",
        "import tensorflow as tf\n",
        "from tensorflow.keras import layers"
      ],
      "execution_count": null,
      "outputs": []
    },
    {
      "cell_type": "markdown",
      "metadata": {
        "id": "DznzjxWCilt4"
      },
      "source": [
        "## 간단한 모델 만들기 (with Sequential() )\n"
      ]
    },
    {
      "cell_type": "code",
      "metadata": {
        "id": "QHdAFEATnFpn"
      },
      "source": [
        "# Sequential 정의\n",
        "model = tf.keras.Sequential()\n",
        "\n",
        "# 단어는 1000개, 노드의 크기(출력 차원)은 64로\n",
        "model.add(layers.Embedding(input_dim=1000, output_dim=64))\n",
        "\n",
        "# 128개의 노드로 구성된 LSTM 생성.\n",
        "model.add((layers.LSTM(128)))\n",
        "\n",
        "# 마지막 레이어는 10개의 클래스로 출력. softmax classfier를 지난다.\n",
        "model.add(layers.Dense(10, activation=\"softmax\"))\n",
        "\n",
        "# 모델 설명을 출력한다.\n",
        "model.summary()"
      ],
      "execution_count": null,
      "outputs": []
    },
    {
      "cell_type": "markdown",
      "metadata": {
        "id": "uuztNezFh0BL"
      },
      "source": [
        "## MNIST 불러오기 "
      ]
    },
    {
      "cell_type": "code",
      "metadata": {
        "id": "m_kZTLDobchi"
      },
      "source": [
        "mnist = tf.keras.datasets.mnist\n",
        "\n",
        "(x_train, y_train), (x_test, y_test) = mnist.load_data()\n",
        "x_train, x_test = x_train / 255.0, x_test / 255.0\n",
        "sample, sample_label = x_train[0], y_train[0]"
      ],
      "execution_count": null,
      "outputs": []
    },
    {
      "cell_type": "markdown",
      "metadata": {
        "id": "UXF8elCuib8k"
      },
      "source": [
        "## 발전된 모델로 MNIST 분류기 만들기 "
      ]
    },
    {
      "cell_type": "code",
      "metadata": {
        "id": "qA5tTpu3MdND"
      },
      "source": [
        "# hyperparameter 세팅\n",
        "batch_size = 64\n",
        "input_dim = 28\n",
        "units = 64\n",
        "output_size = 10 "
      ],
      "execution_count": null,
      "outputs": []
    },
    {
      "cell_type": "code",
      "metadata": {
        "id": "crGWG09jSESY"
      },
      "source": [
        "!pip install --upgrade keras"
      ],
      "execution_count": null,
      "outputs": []
    },
    {
      "cell_type": "code",
      "metadata": {
        "id": "klgv6dfK0KNb"
      },
      "source": [
        "# model 정의\n",
        "model = tf.keras.models.Sequential([\n",
        "                                    tf.keras.layers.LSTM(units, input_shape=(None, input_dim)),\n",
        "                                    tf.keras.layers.BatchNormalization(),\n",
        "                                    tf.keras.layers.Dense(output_size, activation=\"softmax\")])\n",
        "\n",
        "# model compile, multiclass-classification을 할 때 loss는 무엇일까?\n",
        "model.compile(optimizer=\"sgd\", loss=\"sparse_categorical_crossentropy\", metrics=[\"accuracy\"])"
      ],
      "execution_count": null,
      "outputs": []
    },
    {
      "cell_type": "code",
      "metadata": {
        "id": "qzeeo65r25CU",
        "scrolled": false
      },
      "source": [
        "# 모델 실행.\n",
        "history = model.fit(x_train, y_train, validation_data=(x_test, y_test), batch_size=batch_size, epochs=5)"
      ],
      "execution_count": null,
      "outputs": []
    },
    {
      "cell_type": "code",
      "metadata": {
        "id": "gm7LT8fIMdNE"
      },
      "source": [
        "score, acc = model.evaluate(x_test, y_test, batch_size=batch_size)\n",
        "print(\"Test Score: \", score)\n",
        "print(\"Test Accuracy: \", acc)"
      ],
      "execution_count": null,
      "outputs": []
    },
    {
      "cell_type": "markdown",
      "metadata": {
        "id": "vE4h-N4jMdNE"
      },
      "source": [
        "## loss value 시각화 "
      ]
    },
    {
      "cell_type": "code",
      "metadata": {
        "id": "iCyWUMdrMdNE"
      },
      "source": [
        "import matplotlib.pyplot as plt\n",
        "%matplotlib inline\n",
        "\n",
        "loss = history.history['loss']\n",
        "val_loss = history.history['val_loss']\n",
        "\n",
        "plt.figure()\n",
        "plt.plot(loss, 'ro-', label=\"train_loss\")\n",
        "plt.plot(val_loss, 'bo-', label=\"val_loss\")\n",
        "plt.ylabel('Cross Entropy')\n",
        "plt.xlabel('Epoch')\n",
        "plt.legend(loc=\"best\")\n",
        "plt.title('Training and Validation Loss')\n",
        "plt.show()"
      ],
      "execution_count": null,
      "outputs": []
    }
  ]
}