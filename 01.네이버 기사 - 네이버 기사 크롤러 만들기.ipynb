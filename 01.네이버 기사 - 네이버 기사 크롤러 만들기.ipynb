{
 "cells": [
  {
   "cell_type": "markdown",
   "metadata": {},
   "source": [
    "# 네이버 뉴스 데이터 가져오기\n",
    "\n",
    "> 1. 네이버 오픈 API로 기사 URL 크롤링\n",
    "> 2. bs4 + selenium으로 기사 제목 및 내용 크롤링"
   ]
  },
  {
   "cell_type": "markdown",
   "metadata": {},
   "source": [
    "## 네이버 기사 크롤링(한 페이지)"
   ]
  },
  {
   "cell_type": "code",
   "execution_count": 1,
   "metadata": {},
   "outputs": [],
   "source": [
    "import os\n",
    "import sys\n",
    "import urllib.request\n",
    "import requests\n",
    "\n",
    "news_data = []\n",
    "\n",
    "client_id = \"m6nMN2cPd3vdnm2O05HL\"\n",
    "client_secret = \"y_nenqs_jB\" # 발급받은 client_secret\n",
    "encText = urllib.parse.quote(\"파이썬\")\n",
    "\n",
    "\n",
    "url = \"https://openapi.naver.com/v1/search/news?query=\" + encText # json 결과\n",
    "# url = \"https://openapi.naver.com/v1/search/blog.xml?query=\" + encText # xml 결과\n",
    "\n",
    "\n",
    "request = urllib.request.Request(url)\n",
    "request.add_header(\"X-Naver-Client-Id\",client_id)\n",
    "request.add_header(\"X-Naver-Client-Secret\",client_secret)\n",
    "response = urllib.request.urlopen(request)\n",
    "rescode = response.getcode()\n",
    "\n",
    "\n",
    "if(rescode==200):\n",
    "#     response_body = response.read()\n",
    "    result = requests.get(response.geturl(),\n",
    "                          headers={\"X-Naver-Client-Id\":client_id,\n",
    "                                   \"X-Naver-Client-Secret\":client_secret}\n",
    "                         )\n",
    "    news_data.append(result.json())\n",
    "#     print(response_body.decode('utf-8'))\n",
    "else:\n",
    "    print(\"Error Code:\" + rescode)"
   ]
  },
  {
   "cell_type": "markdown",
   "metadata": {},
   "source": [
    "### 네이버 OPEN API를 통해 가져온 데이터 확인하기."
   ]
  },
  {
   "cell_type": "code",
   "execution_count": 2,
   "metadata": {},
   "outputs": [
    {
     "name": "stdout",
     "output_type": "stream",
     "text": [
      "1\n"
     ]
    }
   ],
   "source": [
    "print(len(news_data))"
   ]
  },
  {
   "cell_type": "markdown",
   "metadata": {},
   "source": [
    "> 1 페이지만 가져왔기 때문"
   ]
  },
  {
   "cell_type": "code",
   "execution_count": 3,
   "metadata": {
    "scrolled": true
   },
   "outputs": [
    {
     "data": {
      "text/plain": [
       "[{'lastBuildDate': 'Tue, 22 Jun 2021 22:52:27 +0900',\n",
       "  'total': 10465,\n",
       "  'start': 1,\n",
       "  'display': 10,\n",
       "  'items': [{'title': 'KT 중소기업 교육 최우수 기관 선정',\n",
       "    'originallink': 'http://www.wsobi.com/news/articleView.html?idxno=126212',\n",
       "    'link': 'http://www.wsobi.com/news/articleView.html?idxno=126212',\n",
       "    'description': \"이밖에 KT는 통신기업에서 디지털플랫폼 기업 '디지코(Digico)'로의 전환에 맞춰 올해 중소기업의 AI역량을 강화하고 이해도를 높이기 위해 '사례로 알아보는 AI 적용 기술'과 '<b>파이썬</b> 기초 프로그래밍' 등 신규... \",\n",
       "    'pubDate': 'Tue, 22 Jun 2021 15:38:00 +0900'},\n",
       "   {'title': '[인터뷰] 조재희 한국폴리텍대학\\xa0이사장 &quot;글로벌\\xa0선도대학\\xa0육성에 총력&quot;',\n",
       "    'originallink': 'http://www.newsfreezone.co.kr/news/articleView.html?idxno=322292',\n",
       "    'link': 'http://www.newsfreezone.co.kr/news/articleView.html?idxno=322292',\n",
       "    'description': 'IT 전공자\\xa0대상으로는\\xa0<b>파이썬</b>을\\xa0이용한\\xa0라즈베리\\xa0파이(초소형\\xa0컴퓨터) 제어, \\xa0AI머신러닝\\xa0알고리즘\\xa0실습\\xa0등\\xa0AI+x 심화교육을,\\xa0기타\\xa0전공자\\xa0대상으로는\\xa0생활\\xa0속에서\\xa0경험하는\\xa0인공지능, 블록코딩을\\xa0통한... ',\n",
       "    'pubDate': 'Tue, 22 Jun 2021 10:00:00 +0900'},\n",
       "   {'title': \"CJ올리브네트웍스, GIST와 'K-디지털 트레이닝' 사업 공동 추진\",\n",
       "    'originallink': 'http://www.industrynews.co.kr/news/articleView.html?idxno=42746',\n",
       "    'link': 'http://www.industrynews.co.kr/news/articleView.html?idxno=42746',\n",
       "    'description': '이번 과정은 온·오프라인이 결합된 중급과정으로 <b>파이썬</b>(Python) 등 AI 관련 기초 지식을 갖춘 교육생을 선발해 현장 중심의 교육을 제공한다. 정규교과 과정과 인공지능, 클라우드, 빅데이터가 융합된 비즈니스 문제를... ',\n",
       "    'pubDate': 'Tue, 22 Jun 2021 08:56:00 +0900'},\n",
       "   {'title': \"CJ올리브네트웍스, 'K-디지털 트레이닝' 사업 추진...AI분야 인재 양성\",\n",
       "    'originallink': 'http://www.koreaittimes.com/news/articleView.html?idxno=106697',\n",
       "    'link': 'http://www.koreaittimes.com/news/articleView.html?idxno=106697',\n",
       "    'description': '이번 교육은 온·오프라인이 결합된 중급과정으로 <b>파이썬</b>(Python) 등 AI 관련 기초 지식을 갖춘 교육생에게 교육을 제공한다. 인공지능, 클라우드, 빅데이터가 융합된 비즈니스 문제를 해결하는 프로젝트 PBL(Project... ',\n",
       "    'pubDate': 'Mon, 21 Jun 2021 23:18:00 +0900'},\n",
       "   {'title': \"CJ올리브네트웍스-광주과학기술원(GIST), 'K-디지털 트레이닝' 교육 참여\",\n",
       "    'originallink': 'https://www.dailysecu.com/news/articleView.html?idxno=125777',\n",
       "    'link': 'https://www.dailysecu.com/news/articleView.html?idxno=125777',\n",
       "    'description': '이번 과정은 온오프라인이 결합된 중급과정으로 <b>파이썬</b> 등 AI 관련 기초 지식을 갖춘 교육생을 선발하여 현장 중심의 교육을 제공한다. 정규 교과과정과 인공지능, 클라우드, 빅데이터가 융합된 비즈니스 문제를... ',\n",
       "    'pubDate': 'Mon, 21 Jun 2021 22:54:00 +0900'},\n",
       "   {'title': 'CJ올리브네트웍스 AI인재 육성 앞장',\n",
       "    'originallink': 'http://www.fnnews.com/news/202106211812403118',\n",
       "    'link': 'https://news.naver.com/main/read.nhn?mode=LSD&mid=sec&sid1=105&oid=014&aid=0004660867',\n",
       "    'description': '이번 과정은 온·오프라인이 결합된 중급과정으로 <b>파이썬</b> 등 AI 관련 기초 지식을 갖춘 교육생을 선발해 현장 중심의 교육을 제공한다. 정규교과 과정과 AI, 클라우드, 빅데이터가 융합된 비즈니스 문제를 해결하는... ',\n",
       "    'pubDate': 'Mon, 21 Jun 2021 18:13:00 +0900'},\n",
       "   {'title': \"&quot;저그 합니다&quot;…김계란, '스타' 콘텐츠 예고→에이전트H 등판\",\n",
       "    'originallink': 'https://www.xportsnews.com/?ac=article_view&entry_id=1439283',\n",
       "    'link': 'https://news.naver.com/main/read.nhn?mode=LSD&mid=sec&sid1=106&oid=311&aid=0001313363',\n",
       "    'description': '김계란은 &quot;1:1 <b>파이썬</b> 초보만 S2&quot;라고 답글을 남겼다. 이에 네티즌들은 &quot;혁준상 이제 잡으러 갑니다 찍으시는건가&quot;, &quot;스쿼트 하면서 스타하기&quot;, &quot;도대체 언제적 <b>파이썬</b>이얔ㅋㅋㅋㅋㅋ&quot;, &quot;스타 붐이 다시 오다니ㄷㄷㄷ&quot; 등의... ',\n",
       "    'pubDate': 'Mon, 21 Jun 2021 18:02:00 +0900'},\n",
       "   {'title': '&quot;컴맹이 독학 1년만에 의료용 AI 만들었지요&quot;',\n",
       "    'originallink': 'https://www.sedaily.com/NewsView/22NQ1ECG58',\n",
       "    'link': 'https://news.naver.com/main/read.nhn?mode=LSD&mid=sec&sid1=102&oid=011&aid=0003926273',\n",
       "    'description': '지난해 국내에서 코로나19 사태가 터져 퇴근해도 외출하지 못한 채 ‘자가대기’를 하게 되자 일과 후 시간을 컴퓨터프로그래밍언어의 일종인 ‘<b>파이썬</b>’ 공부에 쏟게 됐다. 그는 “예전부터 하나의 기술을 잘 개발해서... ',\n",
       "    'pubDate': 'Mon, 21 Jun 2021 17:57:00 +0900'},\n",
       "   {'title': '에듀테크 ‘지니로봇’, 투자 유치',\n",
       "    'originallink': 'https://www.venturesquare.net/831387',\n",
       "    'link': 'https://www.venturesquare.net/831387',\n",
       "    'description': '지니봇은 언플러그드 카드 코딩부터 전용 앱, 엔트리, 스크래치 3.0, <b>파이썬</b> 등 활용이 가능하며, 비대면 환경에서 LIMS를 통해 선생님과 학생이 양방향으로 평가, 분석 및 맞춤형 교육이 가능하도록 개발했다.... ',\n",
       "    'pubDate': 'Mon, 21 Jun 2021 16:42:00 +0900'},\n",
       "   {'title': \"CJ올리브네트웍스, GIST와 'K-디지털 트레이닝' 교육사업 추진\",\n",
       "    'originallink': 'https://www.itbiznews.com/news/articleView.html?idxno=40798',\n",
       "    'link': 'https://www.itbiznews.com/news/articleView.html?idxno=40798',\n",
       "    'description': '과정은 온오프라인이 결합된 중급과정으로 <b>파이썬</b>(Python) 등 AI 관련 기초지식을 갖춘 교육생을 선발, 현장 중심의 교육을 제공한다. 정규 교과과정과 AI, 클라우드, 빅데이터가 융합된 비즈니스 문제를 해결하는... ',\n",
       "    'pubDate': 'Mon, 21 Jun 2021 15:40:00 +0900'}]}]"
      ]
     },
     "execution_count": 3,
     "metadata": {},
     "output_type": "execute_result"
    }
   ],
   "source": [
    "news_data"
   ]
  },
  {
   "cell_type": "code",
   "execution_count": 4,
   "metadata": {
    "scrolled": true
   },
   "outputs": [
    {
     "data": {
      "text/plain": [
       "{'lastBuildDate': 'Tue, 22 Jun 2021 22:52:27 +0900',\n",
       " 'total': 10465,\n",
       " 'start': 1,\n",
       " 'display': 10,\n",
       " 'items': [{'title': 'KT 중소기업 교육 최우수 기관 선정',\n",
       "   'originallink': 'http://www.wsobi.com/news/articleView.html?idxno=126212',\n",
       "   'link': 'http://www.wsobi.com/news/articleView.html?idxno=126212',\n",
       "   'description': \"이밖에 KT는 통신기업에서 디지털플랫폼 기업 '디지코(Digico)'로의 전환에 맞춰 올해 중소기업의 AI역량을 강화하고 이해도를 높이기 위해 '사례로 알아보는 AI 적용 기술'과 '<b>파이썬</b> 기초 프로그래밍' 등 신규... \",\n",
       "   'pubDate': 'Tue, 22 Jun 2021 15:38:00 +0900'},\n",
       "  {'title': '[인터뷰] 조재희 한국폴리텍대학\\xa0이사장 &quot;글로벌\\xa0선도대학\\xa0육성에 총력&quot;',\n",
       "   'originallink': 'http://www.newsfreezone.co.kr/news/articleView.html?idxno=322292',\n",
       "   'link': 'http://www.newsfreezone.co.kr/news/articleView.html?idxno=322292',\n",
       "   'description': 'IT 전공자\\xa0대상으로는\\xa0<b>파이썬</b>을\\xa0이용한\\xa0라즈베리\\xa0파이(초소형\\xa0컴퓨터) 제어, \\xa0AI머신러닝\\xa0알고리즘\\xa0실습\\xa0등\\xa0AI+x 심화교육을,\\xa0기타\\xa0전공자\\xa0대상으로는\\xa0생활\\xa0속에서\\xa0경험하는\\xa0인공지능, 블록코딩을\\xa0통한... ',\n",
       "   'pubDate': 'Tue, 22 Jun 2021 10:00:00 +0900'},\n",
       "  {'title': \"CJ올리브네트웍스, GIST와 'K-디지털 트레이닝' 사업 공동 추진\",\n",
       "   'originallink': 'http://www.industrynews.co.kr/news/articleView.html?idxno=42746',\n",
       "   'link': 'http://www.industrynews.co.kr/news/articleView.html?idxno=42746',\n",
       "   'description': '이번 과정은 온·오프라인이 결합된 중급과정으로 <b>파이썬</b>(Python) 등 AI 관련 기초 지식을 갖춘 교육생을 선발해 현장 중심의 교육을 제공한다. 정규교과 과정과 인공지능, 클라우드, 빅데이터가 융합된 비즈니스 문제를... ',\n",
       "   'pubDate': 'Tue, 22 Jun 2021 08:56:00 +0900'},\n",
       "  {'title': \"CJ올리브네트웍스, 'K-디지털 트레이닝' 사업 추진...AI분야 인재 양성\",\n",
       "   'originallink': 'http://www.koreaittimes.com/news/articleView.html?idxno=106697',\n",
       "   'link': 'http://www.koreaittimes.com/news/articleView.html?idxno=106697',\n",
       "   'description': '이번 교육은 온·오프라인이 결합된 중급과정으로 <b>파이썬</b>(Python) 등 AI 관련 기초 지식을 갖춘 교육생에게 교육을 제공한다. 인공지능, 클라우드, 빅데이터가 융합된 비즈니스 문제를 해결하는 프로젝트 PBL(Project... ',\n",
       "   'pubDate': 'Mon, 21 Jun 2021 23:18:00 +0900'},\n",
       "  {'title': \"CJ올리브네트웍스-광주과학기술원(GIST), 'K-디지털 트레이닝' 교육 참여\",\n",
       "   'originallink': 'https://www.dailysecu.com/news/articleView.html?idxno=125777',\n",
       "   'link': 'https://www.dailysecu.com/news/articleView.html?idxno=125777',\n",
       "   'description': '이번 과정은 온오프라인이 결합된 중급과정으로 <b>파이썬</b> 등 AI 관련 기초 지식을 갖춘 교육생을 선발하여 현장 중심의 교육을 제공한다. 정규 교과과정과 인공지능, 클라우드, 빅데이터가 융합된 비즈니스 문제를... ',\n",
       "   'pubDate': 'Mon, 21 Jun 2021 22:54:00 +0900'},\n",
       "  {'title': 'CJ올리브네트웍스 AI인재 육성 앞장',\n",
       "   'originallink': 'http://www.fnnews.com/news/202106211812403118',\n",
       "   'link': 'https://news.naver.com/main/read.nhn?mode=LSD&mid=sec&sid1=105&oid=014&aid=0004660867',\n",
       "   'description': '이번 과정은 온·오프라인이 결합된 중급과정으로 <b>파이썬</b> 등 AI 관련 기초 지식을 갖춘 교육생을 선발해 현장 중심의 교육을 제공한다. 정규교과 과정과 AI, 클라우드, 빅데이터가 융합된 비즈니스 문제를 해결하는... ',\n",
       "   'pubDate': 'Mon, 21 Jun 2021 18:13:00 +0900'},\n",
       "  {'title': \"&quot;저그 합니다&quot;…김계란, '스타' 콘텐츠 예고→에이전트H 등판\",\n",
       "   'originallink': 'https://www.xportsnews.com/?ac=article_view&entry_id=1439283',\n",
       "   'link': 'https://news.naver.com/main/read.nhn?mode=LSD&mid=sec&sid1=106&oid=311&aid=0001313363',\n",
       "   'description': '김계란은 &quot;1:1 <b>파이썬</b> 초보만 S2&quot;라고 답글을 남겼다. 이에 네티즌들은 &quot;혁준상 이제 잡으러 갑니다 찍으시는건가&quot;, &quot;스쿼트 하면서 스타하기&quot;, &quot;도대체 언제적 <b>파이썬</b>이얔ㅋㅋㅋㅋㅋ&quot;, &quot;스타 붐이 다시 오다니ㄷㄷㄷ&quot; 등의... ',\n",
       "   'pubDate': 'Mon, 21 Jun 2021 18:02:00 +0900'},\n",
       "  {'title': '&quot;컴맹이 독학 1년만에 의료용 AI 만들었지요&quot;',\n",
       "   'originallink': 'https://www.sedaily.com/NewsView/22NQ1ECG58',\n",
       "   'link': 'https://news.naver.com/main/read.nhn?mode=LSD&mid=sec&sid1=102&oid=011&aid=0003926273',\n",
       "   'description': '지난해 국내에서 코로나19 사태가 터져 퇴근해도 외출하지 못한 채 ‘자가대기’를 하게 되자 일과 후 시간을 컴퓨터프로그래밍언어의 일종인 ‘<b>파이썬</b>’ 공부에 쏟게 됐다. 그는 “예전부터 하나의 기술을 잘 개발해서... ',\n",
       "   'pubDate': 'Mon, 21 Jun 2021 17:57:00 +0900'},\n",
       "  {'title': '에듀테크 ‘지니로봇’, 투자 유치',\n",
       "   'originallink': 'https://www.venturesquare.net/831387',\n",
       "   'link': 'https://www.venturesquare.net/831387',\n",
       "   'description': '지니봇은 언플러그드 카드 코딩부터 전용 앱, 엔트리, 스크래치 3.0, <b>파이썬</b> 등 활용이 가능하며, 비대면 환경에서 LIMS를 통해 선생님과 학생이 양방향으로 평가, 분석 및 맞춤형 교육이 가능하도록 개발했다.... ',\n",
       "   'pubDate': 'Mon, 21 Jun 2021 16:42:00 +0900'},\n",
       "  {'title': \"CJ올리브네트웍스, GIST와 'K-디지털 트레이닝' 교육사업 추진\",\n",
       "   'originallink': 'https://www.itbiznews.com/news/articleView.html?idxno=40798',\n",
       "   'link': 'https://www.itbiznews.com/news/articleView.html?idxno=40798',\n",
       "   'description': '과정은 온오프라인이 결합된 중급과정으로 <b>파이썬</b>(Python) 등 AI 관련 기초지식을 갖춘 교육생을 선발, 현장 중심의 교육을 제공한다. 정규 교과과정과 AI, 클라우드, 빅데이터가 융합된 비즈니스 문제를 해결하는... ',\n",
       "   'pubDate': 'Mon, 21 Jun 2021 15:40:00 +0900'}]}"
      ]
     },
     "execution_count": 4,
     "metadata": {},
     "output_type": "execute_result"
    }
   ],
   "source": [
    "news_data[0]"
   ]
  },
  {
   "cell_type": "code",
   "execution_count": 5,
   "metadata": {
    "scrolled": true
   },
   "outputs": [
    {
     "data": {
      "text/plain": [
       "[{'title': 'KT 중소기업 교육 최우수 기관 선정',\n",
       "  'originallink': 'http://www.wsobi.com/news/articleView.html?idxno=126212',\n",
       "  'link': 'http://www.wsobi.com/news/articleView.html?idxno=126212',\n",
       "  'description': \"이밖에 KT는 통신기업에서 디지털플랫폼 기업 '디지코(Digico)'로의 전환에 맞춰 올해 중소기업의 AI역량을 강화하고 이해도를 높이기 위해 '사례로 알아보는 AI 적용 기술'과 '<b>파이썬</b> 기초 프로그래밍' 등 신규... \",\n",
       "  'pubDate': 'Tue, 22 Jun 2021 15:38:00 +0900'},\n",
       " {'title': '[인터뷰] 조재희 한국폴리텍대학\\xa0이사장 &quot;글로벌\\xa0선도대학\\xa0육성에 총력&quot;',\n",
       "  'originallink': 'http://www.newsfreezone.co.kr/news/articleView.html?idxno=322292',\n",
       "  'link': 'http://www.newsfreezone.co.kr/news/articleView.html?idxno=322292',\n",
       "  'description': 'IT 전공자\\xa0대상으로는\\xa0<b>파이썬</b>을\\xa0이용한\\xa0라즈베리\\xa0파이(초소형\\xa0컴퓨터) 제어, \\xa0AI머신러닝\\xa0알고리즘\\xa0실습\\xa0등\\xa0AI+x 심화교육을,\\xa0기타\\xa0전공자\\xa0대상으로는\\xa0생활\\xa0속에서\\xa0경험하는\\xa0인공지능, 블록코딩을\\xa0통한... ',\n",
       "  'pubDate': 'Tue, 22 Jun 2021 10:00:00 +0900'},\n",
       " {'title': \"CJ올리브네트웍스, GIST와 'K-디지털 트레이닝' 사업 공동 추진\",\n",
       "  'originallink': 'http://www.industrynews.co.kr/news/articleView.html?idxno=42746',\n",
       "  'link': 'http://www.industrynews.co.kr/news/articleView.html?idxno=42746',\n",
       "  'description': '이번 과정은 온·오프라인이 결합된 중급과정으로 <b>파이썬</b>(Python) 등 AI 관련 기초 지식을 갖춘 교육생을 선발해 현장 중심의 교육을 제공한다. 정규교과 과정과 인공지능, 클라우드, 빅데이터가 융합된 비즈니스 문제를... ',\n",
       "  'pubDate': 'Tue, 22 Jun 2021 08:56:00 +0900'},\n",
       " {'title': \"CJ올리브네트웍스, 'K-디지털 트레이닝' 사업 추진...AI분야 인재 양성\",\n",
       "  'originallink': 'http://www.koreaittimes.com/news/articleView.html?idxno=106697',\n",
       "  'link': 'http://www.koreaittimes.com/news/articleView.html?idxno=106697',\n",
       "  'description': '이번 교육은 온·오프라인이 결합된 중급과정으로 <b>파이썬</b>(Python) 등 AI 관련 기초 지식을 갖춘 교육생에게 교육을 제공한다. 인공지능, 클라우드, 빅데이터가 융합된 비즈니스 문제를 해결하는 프로젝트 PBL(Project... ',\n",
       "  'pubDate': 'Mon, 21 Jun 2021 23:18:00 +0900'},\n",
       " {'title': \"CJ올리브네트웍스-광주과학기술원(GIST), 'K-디지털 트레이닝' 교육 참여\",\n",
       "  'originallink': 'https://www.dailysecu.com/news/articleView.html?idxno=125777',\n",
       "  'link': 'https://www.dailysecu.com/news/articleView.html?idxno=125777',\n",
       "  'description': '이번 과정은 온오프라인이 결합된 중급과정으로 <b>파이썬</b> 등 AI 관련 기초 지식을 갖춘 교육생을 선발하여 현장 중심의 교육을 제공한다. 정규 교과과정과 인공지능, 클라우드, 빅데이터가 융합된 비즈니스 문제를... ',\n",
       "  'pubDate': 'Mon, 21 Jun 2021 22:54:00 +0900'},\n",
       " {'title': 'CJ올리브네트웍스 AI인재 육성 앞장',\n",
       "  'originallink': 'http://www.fnnews.com/news/202106211812403118',\n",
       "  'link': 'https://news.naver.com/main/read.nhn?mode=LSD&mid=sec&sid1=105&oid=014&aid=0004660867',\n",
       "  'description': '이번 과정은 온·오프라인이 결합된 중급과정으로 <b>파이썬</b> 등 AI 관련 기초 지식을 갖춘 교육생을 선발해 현장 중심의 교육을 제공한다. 정규교과 과정과 AI, 클라우드, 빅데이터가 융합된 비즈니스 문제를 해결하는... ',\n",
       "  'pubDate': 'Mon, 21 Jun 2021 18:13:00 +0900'},\n",
       " {'title': \"&quot;저그 합니다&quot;…김계란, '스타' 콘텐츠 예고→에이전트H 등판\",\n",
       "  'originallink': 'https://www.xportsnews.com/?ac=article_view&entry_id=1439283',\n",
       "  'link': 'https://news.naver.com/main/read.nhn?mode=LSD&mid=sec&sid1=106&oid=311&aid=0001313363',\n",
       "  'description': '김계란은 &quot;1:1 <b>파이썬</b> 초보만 S2&quot;라고 답글을 남겼다. 이에 네티즌들은 &quot;혁준상 이제 잡으러 갑니다 찍으시는건가&quot;, &quot;스쿼트 하면서 스타하기&quot;, &quot;도대체 언제적 <b>파이썬</b>이얔ㅋㅋㅋㅋㅋ&quot;, &quot;스타 붐이 다시 오다니ㄷㄷㄷ&quot; 등의... ',\n",
       "  'pubDate': 'Mon, 21 Jun 2021 18:02:00 +0900'},\n",
       " {'title': '&quot;컴맹이 독학 1년만에 의료용 AI 만들었지요&quot;',\n",
       "  'originallink': 'https://www.sedaily.com/NewsView/22NQ1ECG58',\n",
       "  'link': 'https://news.naver.com/main/read.nhn?mode=LSD&mid=sec&sid1=102&oid=011&aid=0003926273',\n",
       "  'description': '지난해 국내에서 코로나19 사태가 터져 퇴근해도 외출하지 못한 채 ‘자가대기’를 하게 되자 일과 후 시간을 컴퓨터프로그래밍언어의 일종인 ‘<b>파이썬</b>’ 공부에 쏟게 됐다. 그는 “예전부터 하나의 기술을 잘 개발해서... ',\n",
       "  'pubDate': 'Mon, 21 Jun 2021 17:57:00 +0900'},\n",
       " {'title': '에듀테크 ‘지니로봇’, 투자 유치',\n",
       "  'originallink': 'https://www.venturesquare.net/831387',\n",
       "  'link': 'https://www.venturesquare.net/831387',\n",
       "  'description': '지니봇은 언플러그드 카드 코딩부터 전용 앱, 엔트리, 스크래치 3.0, <b>파이썬</b> 등 활용이 가능하며, 비대면 환경에서 LIMS를 통해 선생님과 학생이 양방향으로 평가, 분석 및 맞춤형 교육이 가능하도록 개발했다.... ',\n",
       "  'pubDate': 'Mon, 21 Jun 2021 16:42:00 +0900'},\n",
       " {'title': \"CJ올리브네트웍스, GIST와 'K-디지털 트레이닝' 교육사업 추진\",\n",
       "  'originallink': 'https://www.itbiznews.com/news/articleView.html?idxno=40798',\n",
       "  'link': 'https://www.itbiznews.com/news/articleView.html?idxno=40798',\n",
       "  'description': '과정은 온오프라인이 결합된 중급과정으로 <b>파이썬</b>(Python) 등 AI 관련 기초지식을 갖춘 교육생을 선발, 현장 중심의 교육을 제공한다. 정규 교과과정과 AI, 클라우드, 빅데이터가 융합된 비즈니스 문제를 해결하는... ',\n",
       "  'pubDate': 'Mon, 21 Jun 2021 15:40:00 +0900'}]"
      ]
     },
     "execution_count": 5,
     "metadata": {},
     "output_type": "execute_result"
    }
   ],
   "source": [
    "news_data[0]['items']"
   ]
  },
  {
   "cell_type": "code",
   "execution_count": 6,
   "metadata": {},
   "outputs": [
    {
     "data": {
      "text/plain": [
       "{'title': 'KT 중소기업 교육 최우수 기관 선정',\n",
       " 'originallink': 'http://www.wsobi.com/news/articleView.html?idxno=126212',\n",
       " 'link': 'http://www.wsobi.com/news/articleView.html?idxno=126212',\n",
       " 'description': \"이밖에 KT는 통신기업에서 디지털플랫폼 기업 '디지코(Digico)'로의 전환에 맞춰 올해 중소기업의 AI역량을 강화하고 이해도를 높이기 위해 '사례로 알아보는 AI 적용 기술'과 '<b>파이썬</b> 기초 프로그래밍' 등 신규... \",\n",
       " 'pubDate': 'Tue, 22 Jun 2021 15:38:00 +0900'}"
      ]
     },
     "execution_count": 6,
     "metadata": {},
     "output_type": "execute_result"
    }
   ],
   "source": [
    "news_data[0]['items'][0]"
   ]
  },
  {
   "cell_type": "code",
   "execution_count": 7,
   "metadata": {},
   "outputs": [
    {
     "name": "stdout",
     "output_type": "stream",
     "text": [
      "http://www.wsobi.com/news/articleView.html?idxno=126212\n"
     ]
    }
   ],
   "source": [
    "print(news_data[0]['items'][0]['link'])"
   ]
  },
  {
   "cell_type": "markdown",
   "metadata": {},
   "source": [
    "### 가져온 URL이 네이버 뉴스인지 확인하기."
   ]
  },
  {
   "cell_type": "code",
   "execution_count": 8,
   "metadata": {},
   "outputs": [
    {
     "data": {
      "text/plain": [
       "3"
      ]
     },
     "execution_count": 8,
     "metadata": {},
     "output_type": "execute_result"
    }
   ],
   "source": [
    "page_news_link = []\n",
    "\n",
    "for item in news_data[0]['items']:\n",
    "    link = item['link']\n",
    "    if \"naver\" in link:\n",
    "        page_news_link.append(link)\n",
    "\n",
    "len(page_news_link)"
   ]
  },
  {
   "cell_type": "markdown",
   "metadata": {},
   "source": [
    "## 네이버 기사 크롤링(페이지 넘기기)"
   ]
  },
  {
   "cell_type": "code",
   "execution_count": 9,
   "metadata": {},
   "outputs": [],
   "source": [
    "import os\n",
    "import sys\n",
    "import urllib.request\n",
    "import requests\n",
    "\n",
    "news_data = []\n",
    "page_count = 3\n",
    "\n",
    "client_id = \"m6nMN2cPd3vdnm2O05HL\"\n",
    "client_secret = \"y_nenqs_jB\" # 발급받은 client_secret\n",
    "encText = urllib.parse.quote(\"파이썬\")\n",
    "\n",
    "for idx in range(page_count):\n",
    "    url = \"https://openapi.naver.com/v1/search/news?query=\" + encText + \"&start=\" + str(idx * 10 + 1)# json 결과\n",
    "    # url = \"https://openapi.naver.com/v1/search/blog.xml?query=\" + encText # xml 결과\n",
    "\n",
    "\n",
    "    request = urllib.request.Request(url)\n",
    "    request.add_header(\"X-Naver-Client-Id\",client_id)\n",
    "    request.add_header(\"X-Naver-Client-Secret\",client_secret)\n",
    "    response = urllib.request.urlopen(request)\n",
    "    rescode = response.getcode()\n",
    "\n",
    "\n",
    "    if(rescode==200):\n",
    "    #     response_body = response.read()\n",
    "        result = requests.get(response.geturl(),\n",
    "                              headers={\"X-Naver-Client-Id\":client_id,\n",
    "                                       \"X-Naver-Client-Secret\":client_secret}\n",
    "                             )\n",
    "        news_data.append(result.json())\n",
    "    #     print(response_body.decode('utf-8'))\n",
    "    else:\n",
    "        print(\"Error Code:\" + rescode)"
   ]
  },
  {
   "cell_type": "markdown",
   "metadata": {},
   "source": [
    "### 네이버 OPEN API를 통해 가져온 데이터 확인하기."
   ]
  },
  {
   "cell_type": "code",
   "execution_count": 10,
   "metadata": {},
   "outputs": [
    {
     "name": "stdout",
     "output_type": "stream",
     "text": [
      "3\n"
     ]
    }
   ],
   "source": [
    "print(len(news_data))"
   ]
  },
  {
   "cell_type": "markdown",
   "metadata": {},
   "source": [
    "> 3 페이지를 가져왔기 때문"
   ]
  },
  {
   "cell_type": "code",
   "execution_count": 11,
   "metadata": {
    "scrolled": false
   },
   "outputs": [
    {
     "data": {
      "text/plain": [
       "[{'lastBuildDate': 'Tue, 22 Jun 2021 22:52:27 +0900',\n",
       "  'total': 10465,\n",
       "  'start': 1,\n",
       "  'display': 10,\n",
       "  'items': [{'title': 'KT 중소기업 교육 최우수 기관 선정',\n",
       "    'originallink': 'http://www.wsobi.com/news/articleView.html?idxno=126212',\n",
       "    'link': 'http://www.wsobi.com/news/articleView.html?idxno=126212',\n",
       "    'description': \"이밖에 KT는 통신기업에서 디지털플랫폼 기업 '디지코(Digico)'로의 전환에 맞춰 올해 중소기업의 AI역량을 강화하고 이해도를 높이기 위해 '사례로 알아보는 AI 적용 기술'과 '<b>파이썬</b> 기초 프로그래밍' 등 신규... \",\n",
       "    'pubDate': 'Tue, 22 Jun 2021 15:38:00 +0900'},\n",
       "   {'title': '[인터뷰] 조재희 한국폴리텍대학\\xa0이사장 &quot;글로벌\\xa0선도대학\\xa0육성에 총력&quot;',\n",
       "    'originallink': 'http://www.newsfreezone.co.kr/news/articleView.html?idxno=322292',\n",
       "    'link': 'http://www.newsfreezone.co.kr/news/articleView.html?idxno=322292',\n",
       "    'description': 'IT 전공자\\xa0대상으로는\\xa0<b>파이썬</b>을\\xa0이용한\\xa0라즈베리\\xa0파이(초소형\\xa0컴퓨터) 제어, \\xa0AI머신러닝\\xa0알고리즘\\xa0실습\\xa0등\\xa0AI+x 심화교육을,\\xa0기타\\xa0전공자\\xa0대상으로는\\xa0생활\\xa0속에서\\xa0경험하는\\xa0인공지능, 블록코딩을\\xa0통한... ',\n",
       "    'pubDate': 'Tue, 22 Jun 2021 10:00:00 +0900'},\n",
       "   {'title': \"CJ올리브네트웍스, GIST와 'K-디지털 트레이닝' 사업 공동 추진\",\n",
       "    'originallink': 'http://www.industrynews.co.kr/news/articleView.html?idxno=42746',\n",
       "    'link': 'http://www.industrynews.co.kr/news/articleView.html?idxno=42746',\n",
       "    'description': '이번 과정은 온·오프라인이 결합된 중급과정으로 <b>파이썬</b>(Python) 등 AI 관련 기초 지식을 갖춘 교육생을 선발해 현장 중심의 교육을 제공한다. 정규교과 과정과 인공지능, 클라우드, 빅데이터가 융합된 비즈니스 문제를... ',\n",
       "    'pubDate': 'Tue, 22 Jun 2021 08:56:00 +0900'},\n",
       "   {'title': \"CJ올리브네트웍스, 'K-디지털 트레이닝' 사업 추진...AI분야 인재 양성\",\n",
       "    'originallink': 'http://www.koreaittimes.com/news/articleView.html?idxno=106697',\n",
       "    'link': 'http://www.koreaittimes.com/news/articleView.html?idxno=106697',\n",
       "    'description': '이번 교육은 온·오프라인이 결합된 중급과정으로 <b>파이썬</b>(Python) 등 AI 관련 기초 지식을 갖춘 교육생에게 교육을 제공한다. 인공지능, 클라우드, 빅데이터가 융합된 비즈니스 문제를 해결하는 프로젝트 PBL(Project... ',\n",
       "    'pubDate': 'Mon, 21 Jun 2021 23:18:00 +0900'},\n",
       "   {'title': \"CJ올리브네트웍스-광주과학기술원(GIST), 'K-디지털 트레이닝' 교육 참여\",\n",
       "    'originallink': 'https://www.dailysecu.com/news/articleView.html?idxno=125777',\n",
       "    'link': 'https://www.dailysecu.com/news/articleView.html?idxno=125777',\n",
       "    'description': '이번 과정은 온오프라인이 결합된 중급과정으로 <b>파이썬</b> 등 AI 관련 기초 지식을 갖춘 교육생을 선발하여 현장 중심의 교육을 제공한다. 정규 교과과정과 인공지능, 클라우드, 빅데이터가 융합된 비즈니스 문제를... ',\n",
       "    'pubDate': 'Mon, 21 Jun 2021 22:54:00 +0900'},\n",
       "   {'title': 'CJ올리브네트웍스 AI인재 육성 앞장',\n",
       "    'originallink': 'http://www.fnnews.com/news/202106211812403118',\n",
       "    'link': 'https://news.naver.com/main/read.nhn?mode=LSD&mid=sec&sid1=105&oid=014&aid=0004660867',\n",
       "    'description': '이번 과정은 온·오프라인이 결합된 중급과정으로 <b>파이썬</b> 등 AI 관련 기초 지식을 갖춘 교육생을 선발해 현장 중심의 교육을 제공한다. 정규교과 과정과 AI, 클라우드, 빅데이터가 융합된 비즈니스 문제를 해결하는... ',\n",
       "    'pubDate': 'Mon, 21 Jun 2021 18:13:00 +0900'},\n",
       "   {'title': \"&quot;저그 합니다&quot;…김계란, '스타' 콘텐츠 예고→에이전트H 등판\",\n",
       "    'originallink': 'https://www.xportsnews.com/?ac=article_view&entry_id=1439283',\n",
       "    'link': 'https://news.naver.com/main/read.nhn?mode=LSD&mid=sec&sid1=106&oid=311&aid=0001313363',\n",
       "    'description': '김계란은 &quot;1:1 <b>파이썬</b> 초보만 S2&quot;라고 답글을 남겼다. 이에 네티즌들은 &quot;혁준상 이제 잡으러 갑니다 찍으시는건가&quot;, &quot;스쿼트 하면서 스타하기&quot;, &quot;도대체 언제적 <b>파이썬</b>이얔ㅋㅋㅋㅋㅋ&quot;, &quot;스타 붐이 다시 오다니ㄷㄷㄷ&quot; 등의... ',\n",
       "    'pubDate': 'Mon, 21 Jun 2021 18:02:00 +0900'},\n",
       "   {'title': '&quot;컴맹이 독학 1년만에 의료용 AI 만들었지요&quot;',\n",
       "    'originallink': 'https://www.sedaily.com/NewsView/22NQ1ECG58',\n",
       "    'link': 'https://news.naver.com/main/read.nhn?mode=LSD&mid=sec&sid1=102&oid=011&aid=0003926273',\n",
       "    'description': '지난해 국내에서 코로나19 사태가 터져 퇴근해도 외출하지 못한 채 ‘자가대기’를 하게 되자 일과 후 시간을 컴퓨터프로그래밍언어의 일종인 ‘<b>파이썬</b>’ 공부에 쏟게 됐다. 그는 “예전부터 하나의 기술을 잘 개발해서... ',\n",
       "    'pubDate': 'Mon, 21 Jun 2021 17:57:00 +0900'},\n",
       "   {'title': '에듀테크 ‘지니로봇’, 투자 유치',\n",
       "    'originallink': 'https://www.venturesquare.net/831387',\n",
       "    'link': 'https://www.venturesquare.net/831387',\n",
       "    'description': '지니봇은 언플러그드 카드 코딩부터 전용 앱, 엔트리, 스크래치 3.0, <b>파이썬</b> 등 활용이 가능하며, 비대면 환경에서 LIMS를 통해 선생님과 학생이 양방향으로 평가, 분석 및 맞춤형 교육이 가능하도록 개발했다.... ',\n",
       "    'pubDate': 'Mon, 21 Jun 2021 16:42:00 +0900'},\n",
       "   {'title': \"CJ올리브네트웍스, GIST와 'K-디지털 트레이닝' 교육사업 추진\",\n",
       "    'originallink': 'https://www.itbiznews.com/news/articleView.html?idxno=40798',\n",
       "    'link': 'https://www.itbiznews.com/news/articleView.html?idxno=40798',\n",
       "    'description': '과정은 온오프라인이 결합된 중급과정으로 <b>파이썬</b>(Python) 등 AI 관련 기초지식을 갖춘 교육생을 선발, 현장 중심의 교육을 제공한다. 정규 교과과정과 AI, 클라우드, 빅데이터가 융합된 비즈니스 문제를 해결하는... ',\n",
       "    'pubDate': 'Mon, 21 Jun 2021 15:40:00 +0900'}]},\n",
       " {'lastBuildDate': 'Tue, 22 Jun 2021 22:52:27 +0900',\n",
       "  'total': 10465,\n",
       "  'start': 11,\n",
       "  'display': 10,\n",
       "  'items': [{'title': 'CJ올리브네트웍스, 광주과학기술원과 ‘K-디지털 트레이닝’ 사업 공동 추진',\n",
       "    'originallink': 'https://www.dnews.co.kr/uhtml/view.jsp?idxno=202106211459076220273',\n",
       "    'link': 'https://www.dnews.co.kr/uhtml/view.jsp?idxno=202106211459076220273',\n",
       "    'description': '이번 과정은 온·오프라인이 결합된 중급과정으로 <b>파이썬</b>(Python) 등 AI 관련 기초 지식을 갖춘 교육생을 선발하여 현장 중심의 교육을 제공한다. 정규 교과과정과 인공지능, 클라우드, 빅데이터가 융합된 비즈니스... ',\n",
       "    'pubDate': 'Mon, 21 Jun 2021 15:12:00 +0900'},\n",
       "   {'title': 'CJ올리브네트웍스-광주과학기술원, ‘K-디지털 트레이닝’ 사업 공동 추진',\n",
       "    'originallink': 'http://www.boannews.com/media/view.asp?idx=98453&kind=',\n",
       "    'link': 'http://www.boannews.com/media/view.asp?idx=98453&kind=',\n",
       "    'description': '이번 과정은 온·오프라인이 결합된 중급과정으로 <b>파이썬</b>(Python) 등 AI 관련 기초 지식을 갖춘 교육생을 선발하여 현장 중심의 교육을 제공한다. 정규 교과과정과 인공지능, 클라우드, 빅데이터가 융합된 비즈니스... ',\n",
       "    'pubDate': 'Mon, 21 Jun 2021 14:16:00 +0900'},\n",
       "   {'title': 'CJ올리브네트웍스-GIST, AI 인재 교육 사업 추진',\n",
       "    'originallink': 'http://www.newsis.com/view/?id=NISX20210621_0001483626&cID=13001&pID=13000',\n",
       "    'link': 'https://news.naver.com/main/read.nhn?mode=LSD&mid=sec&sid1=101&oid=003&aid=0010562740',\n",
       "    'description': '이번 과정은 온·오프라인이 결합된 중급과정으로 <b>파이썬</b>(Python) 등 AI 관련 기초 지식을 갖춘 교육생을 선발해 현장 중심의 교육을 제공한다. 정규 교과과정과 AI, 클라우드, 빅데이터가 융합된 비즈니스 문제를... ',\n",
       "    'pubDate': 'Mon, 21 Jun 2021 13:55:00 +0900'},\n",
       "   {'title': 'KT, 중소기업 인력양성 교육 최우수 기관 선정',\n",
       "    'originallink': 'http://www.cctvnews.co.kr/news/articleView.html?idxno=227699',\n",
       "    'link': 'http://www.cctvnews.co.kr/news/articleView.html?idxno=227699',\n",
       "    'description': \"이밖에 KT는 통신기업에서 디지털플랫폼 기업 '디지코(Digico)'로의 전환에 맞춰 올해 중소기업의 인공지능(AI) 역량을 강화하고 이해도를 높이기 위해 '사례로 알아보는 AI 적용 기술'과 '<b>파이썬</b> 기초 프로그래밍' 등... \",\n",
       "    'pubDate': 'Mon, 21 Jun 2021 13:10:00 +0900'},\n",
       "   {'title': \"CJ올리브네트웍스, GIST 손잡고 '실전형 AI 인재' 기른다\",\n",
       "    'originallink': 'https://www.techm.kr/news/articleView.html?idxno=85058',\n",
       "    'link': 'https://www.techm.kr/news/articleView.html?idxno=85058',\n",
       "    'description': '이번 과정은 온·오프라인이 결합된 중급과정으로 <b>파이썬</b>(Python) 등 AI 관련 기초 지식을 갖춘 교육생을 선발해\\xa0현장 중심의 교육을 제공한다. 정규 교과과정과 인공지능, 클라우드, 빅데이터가 융합된 비즈니스... ',\n",
       "    'pubDate': 'Mon, 21 Jun 2021 12:26:00 +0900'},\n",
       "   {'title': '에듀테크 스타트업 지니로봇, 기업은행·신보에서 7억원 프리 시리즈A 투자 유...',\n",
       "    'originallink': 'http://news.mt.co.kr/mtview.php?no=2021062111331738992',\n",
       "    'link': 'https://news.naver.com/main/read.nhn?mode=LSD&mid=sec&sid1=102&oid=008&aid=0004604611',\n",
       "    'description': '지니봇은 언플러그드 카드 코딩부터 전용 앱, 엔트리, 스크래치 3.0, <b>파이썬</b> 등 활용이 가능하며, 비대면 환경에서 LIMS를 통해 선생님과 학생이 양방향으로 평가, 분석 및 맞춤형 교육이 가능하도록 개발했다. 최근... ',\n",
       "    'pubDate': 'Mon, 21 Jun 2021 11:49:00 +0900'},\n",
       "   {'title': '플랫폼·트레이닝·크레딧 등 교육...CJ올리브네트웍스, K-디지털인재 키운다',\n",
       "    'originallink': 'http://news.heraldcorp.com/view.php?ud=20210621000648',\n",
       "    'link': 'https://news.naver.com/main/read.nhn?mode=LSD&mid=sec&sid1=105&oid=016&aid=0001851020',\n",
       "    'description': '이번 과정은 온·오프라인이 결합된 중급과정으로 <b>파이썬</b>(Python) 등 AI(인공지능) 관련 기초 지식을 갖춘 교육생을 선발해 현장 중심의 교육을 제공한다. 정규교과 과정과 인공지능, 클라우드, 빅데이터가 융합된... ',\n",
       "    'pubDate': 'Mon, 21 Jun 2021 11:36:00 +0900'},\n",
       "   {'title': 'CJ올리브네트웍스-GIST, AI 인재 양성 맞손',\n",
       "    'originallink': 'http://it.chosun.com/site/data/html_dir/2021/06/21/2021062101045.html',\n",
       "    'link': 'http://it.chosun.com/site/data/html_dir/2021/06/21/2021062101045.html',\n",
       "    'description': '이번 과정은 온·오프라인이 결합된 중급과정으로 <b>파이썬</b> 등 AI 관련 기초 지식을 갖춘 교육생을 선발해 현장 중심의 교육을 제공한다. 정규 교과과정과 인공지능, 클라우드, 빅데이터가 융합된 비즈니스 문제를... ',\n",
       "    'pubDate': 'Mon, 21 Jun 2021 11:04:00 +0900'},\n",
       "   {'title': \"美\\xa0로봇랩,\\xa0소프트뱅크 로보틱스의\\xa0'페퍼·나오'\\xa0북미 독점 제휴\",\n",
       "    'originallink': 'http://www.irobotnews.com/news/articleView.html?idxno=25322',\n",
       "    'link': 'http://www.irobotnews.com/news/articleView.html?idxno=25322',\n",
       "    'description': '페퍼 프리미엄은 <b>파이썬</b>, C++ 또는 드래그앤드롭 인터페이스인 코레오그래프(Choregraphe)를 사용하며, 페퍼 프리미엄+내브는 안드로이드 스튜디오(Android Studio)와 자바를 사용해 프로그래밍할 수 있다. 로봇 컨트롤... ',\n",
       "    'pubDate': 'Mon, 21 Jun 2021 10:58:00 +0900'},\n",
       "   {'title': \"CJ올리브네트웍스, GIST와 'K-디지털 트레이닝' 사업 공동 추진\",\n",
       "    'originallink': 'http://www.g-enews.com/ko-kr/news/article/news_all/2021062110502860311aef83fcde_1/article.html',\n",
       "    'link': 'http://www.g-enews.com/ko-kr/news/article/news_all/2021062110502860311aef83fcde_1/article.html',\n",
       "    'description': '이번 과정은 온·오프라인이 결합된 중급과정으로 <b>파이썬</b>(Python) 등 AI 관련 기초 지식을 갖춘 교육생을 선발해 현장 중심의 교육을 제공한다. 정규 교과과정과 인공지능, 클라우드, 빅데이터가 융합된 비즈니스 문제를... ',\n",
       "    'pubDate': 'Mon, 21 Jun 2021 10:52:00 +0900'}]},\n",
       " {'lastBuildDate': 'Tue, 22 Jun 2021 22:52:28 +0900',\n",
       "  'total': 10465,\n",
       "  'start': 21,\n",
       "  'display': 10,\n",
       "  'items': [{'title': \"CJ올리브네트웍스, 광주과학기술원 협업 'K-디지털 트레이닝' 사업 공동 추진\",\n",
       "    'originallink': 'http://www.newslock.co.kr/news/articleView.html?idxno=41914',\n",
       "    'link': 'http://www.newslock.co.kr/news/articleView.html?idxno=41914',\n",
       "    'description': '이번 과정은 온·오프라인이 결합된 중급과정으로 <b>파이썬</b>(Python)\\xa0등\\xa0AI\\xa0관련 기초 지식을 갖춘 교육생을 선발하여 현장 중심의 교육을 제공한다. 정규 교과과정과 인공지능,\\xa0클라우드,\\xa0빅데이터가 융합된 비즈니스... ',\n",
       "    'pubDate': 'Mon, 21 Jun 2021 10:40:00 +0900'},\n",
       "   {'title': 'CJ올리브네트웍스, 광주과학기술원(GIST)과 ‘K-디지털 트레이닝’ 사업 공동...',\n",
       "    'originallink': 'http://www.cnbnews.com/news/article.html?no=497677',\n",
       "    'link': 'http://www.cnbnews.com/news/article.html?no=497677',\n",
       "    'description': '이번 과정은 온·오프라인이 결합된 중급과정으로 <b>파이썬</b>(Python) 등 AI 관련 기초 지식을 갖춘 교육생을 선발하여 현장 중심의 교육을 제공한다. 정규 교과과정과 인공지능, 클라우드, 빅데이터가 융합된 비즈니스... ',\n",
       "    'pubDate': 'Mon, 21 Jun 2021 10:14:00 +0900'},\n",
       "   {'title': \"CJ올리브네트웍스·광주과학기술원, 'K-디지털 트레이닝' 사업 공동 추진\",\n",
       "    'originallink': 'http://www.datanet.co.kr/news/articleView.html?idxno=160893',\n",
       "    'link': 'http://www.datanet.co.kr/news/articleView.html?idxno=160893',\n",
       "    'description': '이번 과정은 온·오프라인이 결합된 중급과정으로 <b>파이썬</b>(Python) 등 AI 관련 기초 지식을 갖춘 교육생을 선발해 현장 중심의 교육을 제공한다. 정규 교과과정과 인공지능, 클라우드, 빅데이터가 융합된 비즈니스... ',\n",
       "    'pubDate': 'Mon, 21 Jun 2021 10:10:00 +0900'},\n",
       "   {'title': 'CJ올리브네트웍스, 광주과학기술원(GIST)과 ‘K-디지털 트레이닝’ 사업 공동...',\n",
       "    'originallink': 'http://www.ddaily.co.kr/news/article.html?no=216501',\n",
       "    'link': 'https://news.naver.com/main/read.nhn?mode=LSD&mid=sec&sid1=105&oid=138&aid=0002105413',\n",
       "    'description': '이번 과정은 온·오프라인이 결합된 중급과정으로 <b>파이썬</b>(Python) 등 AI 관련 기초 지식을 갖춘 교육생을 선발하여 현장 중심의 교육을 제공한다. 정규 교과과정과 인공지능, 클라우드, 빅데이터가 융합된 비즈니스... ',\n",
       "    'pubDate': 'Mon, 21 Jun 2021 09:58:00 +0900'},\n",
       "   {'title': 'AI 전문인력 양성 나선다..CJ올리브네트웍스, 지스트와 K-디지털 트레이닝 맞...',\n",
       "    'originallink': 'http://www.00news.co.kr/news/articleView.html?idxno=66315',\n",
       "    'link': 'http://www.00news.co.kr/news/articleView.html?idxno=66315',\n",
       "    'description': '이번 과정은 온·오프라인이 결합된 중급과정으로 <b>파이썬</b>(Python) 등 AI 관련 기초 지식을 갖춘 교육생을 선발해 현장 중심의 교육을 제공한다. 정규 교과과정과 AI, 빅데이터, 클라우드가 융합된 비즈니스 문제를... ',\n",
       "    'pubDate': 'Mon, 21 Jun 2021 09:54:00 +0900'},\n",
       "   {'title': 'CJ올리브네트웍스, 광주과학기술원과 ‘K-디지털 트레이닝’ 공동 추진\\xa0',\n",
       "    'originallink': 'http://www.joseilbo.com/news/news_read.php?uid=426310&class=17&grp=',\n",
       "    'link': 'https://news.naver.com/main/read.nhn?mode=LSD&mid=sec&sid1=101&oid=123&aid=0002248535',\n",
       "    'description': '이번 과정은 온·오프라인이 결합된 중급과정으로 <b>파이썬</b> 등 AI 관련 기초 지식을 갖춘 교육생을 선발하여 현장 중심의 교육을 제공한다. 정규교과 과정과 인공지능, 클라우드, 빅데이터가 융합된 비즈니스 문제를... ',\n",
       "    'pubDate': 'Mon, 21 Jun 2021 09:49:00 +0900'},\n",
       "   {'title': \"CJ올리브네트웍스-GIST, 'K-디지털 트레이닝' 사업 공동 추진\",\n",
       "    'originallink': 'https://daily.hankooki.com/lpage/ittech/202106/dh20210621094441138240.htm?s_ref=nv',\n",
       "    'link': 'https://daily.hankooki.com/lpage/ittech/202106/dh20210621094441138240.htm?s_ref=nv',\n",
       "    'description': '이번 과정은 온·오프라인이 결합된 중급과정으로 <b>파이썬</b>(Python) 등 AI 관련 기초 지식을 갖춘 교육생을 선발해 현장 중심의 교육을 제공한다. 정규 교과과정과 인공지능, 클라우드, 빅데이터가 융합된 비즈니스 문제를... ',\n",
       "    'pubDate': 'Mon, 21 Jun 2021 09:46:00 +0900'},\n",
       "   {'title': 'CJ올리브네트웍스, ‘K-디지털 트레이닝’ 사업 추진',\n",
       "    'originallink': 'http://www.edaily.co.kr/news/newspath.asp?newsid=01741686629084016',\n",
       "    'link': 'https://news.naver.com/main/read.nhn?mode=LSD&mid=sec&sid1=105&oid=018&aid=0004963361',\n",
       "    'description': '이번 교육은 온·오프라인이 결합된 중급 과정으로, <b>파이썬</b> 등 인공지능(AI) 관련 기초 지식을 갖춘 교육생을 대상으로 한다. AI, 클라우드, 빅데이터가 융합된 비즈니스 문제를 해결하는 프로젝트 PBL(Project based... ',\n",
       "    'pubDate': 'Mon, 21 Jun 2021 09:33:00 +0900'},\n",
       "   {'title': 'CJ올리브네트웍스, GIST와 ‘K-디지털 트레이닝’ 사업 맞손',\n",
       "    'originallink': 'http://www.metroseoul.co.kr/article/20210621500024',\n",
       "    'link': 'http://www.metroseoul.co.kr/article/20210621500024',\n",
       "    'description': '이번 과정은 온·오프라인이 결합된 중급과정으로 <b>파이썬</b>(Python) 등 AI 기초 지식을 갖춘 교육생을 선발해 현장 중심의 교육을 제공한다. 정규 교과과정과 인공지능, 클라우드, 빅데이터가 융합된 비즈니스 문제를... ',\n",
       "    'pubDate': 'Mon, 21 Jun 2021 09:32:00 +0900'},\n",
       "   {'title': \"CJ올리브네트웍스-광주과학기술원, 'K-디지털 트레이닝' 사업 추진\",\n",
       "    'originallink': 'http://www.it-b.co.kr/news/articleView.html?idxno=50387',\n",
       "    'link': 'http://www.it-b.co.kr/news/articleView.html?idxno=50387',\n",
       "    'description': '이번 과정은 온·오프라인이 결합된 중급과정으로 <b>파이썬</b>(Python) 등 AI 관련 기초 지식을 갖춘 교육생을 선발하여 현장 중심의 교육을 제공한다. 정규교과 과정과 인공지능, 클라우드, 빅데이터가 융합된 비즈니스... ',\n",
       "    'pubDate': 'Mon, 21 Jun 2021 09:26:00 +0900'}]}]"
      ]
     },
     "execution_count": 11,
     "metadata": {},
     "output_type": "execute_result"
    }
   ],
   "source": [
    "news_data"
   ]
  },
  {
   "cell_type": "code",
   "execution_count": 12,
   "metadata": {
    "scrolled": true
   },
   "outputs": [
    {
     "data": {
      "text/plain": [
       "{'lastBuildDate': 'Tue, 22 Jun 2021 22:52:27 +0900',\n",
       " 'total': 10465,\n",
       " 'start': 1,\n",
       " 'display': 10,\n",
       " 'items': [{'title': 'KT 중소기업 교육 최우수 기관 선정',\n",
       "   'originallink': 'http://www.wsobi.com/news/articleView.html?idxno=126212',\n",
       "   'link': 'http://www.wsobi.com/news/articleView.html?idxno=126212',\n",
       "   'description': \"이밖에 KT는 통신기업에서 디지털플랫폼 기업 '디지코(Digico)'로의 전환에 맞춰 올해 중소기업의 AI역량을 강화하고 이해도를 높이기 위해 '사례로 알아보는 AI 적용 기술'과 '<b>파이썬</b> 기초 프로그래밍' 등 신규... \",\n",
       "   'pubDate': 'Tue, 22 Jun 2021 15:38:00 +0900'},\n",
       "  {'title': '[인터뷰] 조재희 한국폴리텍대학\\xa0이사장 &quot;글로벌\\xa0선도대학\\xa0육성에 총력&quot;',\n",
       "   'originallink': 'http://www.newsfreezone.co.kr/news/articleView.html?idxno=322292',\n",
       "   'link': 'http://www.newsfreezone.co.kr/news/articleView.html?idxno=322292',\n",
       "   'description': 'IT 전공자\\xa0대상으로는\\xa0<b>파이썬</b>을\\xa0이용한\\xa0라즈베리\\xa0파이(초소형\\xa0컴퓨터) 제어, \\xa0AI머신러닝\\xa0알고리즘\\xa0실습\\xa0등\\xa0AI+x 심화교육을,\\xa0기타\\xa0전공자\\xa0대상으로는\\xa0생활\\xa0속에서\\xa0경험하는\\xa0인공지능, 블록코딩을\\xa0통한... ',\n",
       "   'pubDate': 'Tue, 22 Jun 2021 10:00:00 +0900'},\n",
       "  {'title': \"CJ올리브네트웍스, GIST와 'K-디지털 트레이닝' 사업 공동 추진\",\n",
       "   'originallink': 'http://www.industrynews.co.kr/news/articleView.html?idxno=42746',\n",
       "   'link': 'http://www.industrynews.co.kr/news/articleView.html?idxno=42746',\n",
       "   'description': '이번 과정은 온·오프라인이 결합된 중급과정으로 <b>파이썬</b>(Python) 등 AI 관련 기초 지식을 갖춘 교육생을 선발해 현장 중심의 교육을 제공한다. 정규교과 과정과 인공지능, 클라우드, 빅데이터가 융합된 비즈니스 문제를... ',\n",
       "   'pubDate': 'Tue, 22 Jun 2021 08:56:00 +0900'},\n",
       "  {'title': \"CJ올리브네트웍스, 'K-디지털 트레이닝' 사업 추진...AI분야 인재 양성\",\n",
       "   'originallink': 'http://www.koreaittimes.com/news/articleView.html?idxno=106697',\n",
       "   'link': 'http://www.koreaittimes.com/news/articleView.html?idxno=106697',\n",
       "   'description': '이번 교육은 온·오프라인이 결합된 중급과정으로 <b>파이썬</b>(Python) 등 AI 관련 기초 지식을 갖춘 교육생에게 교육을 제공한다. 인공지능, 클라우드, 빅데이터가 융합된 비즈니스 문제를 해결하는 프로젝트 PBL(Project... ',\n",
       "   'pubDate': 'Mon, 21 Jun 2021 23:18:00 +0900'},\n",
       "  {'title': \"CJ올리브네트웍스-광주과학기술원(GIST), 'K-디지털 트레이닝' 교육 참여\",\n",
       "   'originallink': 'https://www.dailysecu.com/news/articleView.html?idxno=125777',\n",
       "   'link': 'https://www.dailysecu.com/news/articleView.html?idxno=125777',\n",
       "   'description': '이번 과정은 온오프라인이 결합된 중급과정으로 <b>파이썬</b> 등 AI 관련 기초 지식을 갖춘 교육생을 선발하여 현장 중심의 교육을 제공한다. 정규 교과과정과 인공지능, 클라우드, 빅데이터가 융합된 비즈니스 문제를... ',\n",
       "   'pubDate': 'Mon, 21 Jun 2021 22:54:00 +0900'},\n",
       "  {'title': 'CJ올리브네트웍스 AI인재 육성 앞장',\n",
       "   'originallink': 'http://www.fnnews.com/news/202106211812403118',\n",
       "   'link': 'https://news.naver.com/main/read.nhn?mode=LSD&mid=sec&sid1=105&oid=014&aid=0004660867',\n",
       "   'description': '이번 과정은 온·오프라인이 결합된 중급과정으로 <b>파이썬</b> 등 AI 관련 기초 지식을 갖춘 교육생을 선발해 현장 중심의 교육을 제공한다. 정규교과 과정과 AI, 클라우드, 빅데이터가 융합된 비즈니스 문제를 해결하는... ',\n",
       "   'pubDate': 'Mon, 21 Jun 2021 18:13:00 +0900'},\n",
       "  {'title': \"&quot;저그 합니다&quot;…김계란, '스타' 콘텐츠 예고→에이전트H 등판\",\n",
       "   'originallink': 'https://www.xportsnews.com/?ac=article_view&entry_id=1439283',\n",
       "   'link': 'https://news.naver.com/main/read.nhn?mode=LSD&mid=sec&sid1=106&oid=311&aid=0001313363',\n",
       "   'description': '김계란은 &quot;1:1 <b>파이썬</b> 초보만 S2&quot;라고 답글을 남겼다. 이에 네티즌들은 &quot;혁준상 이제 잡으러 갑니다 찍으시는건가&quot;, &quot;스쿼트 하면서 스타하기&quot;, &quot;도대체 언제적 <b>파이썬</b>이얔ㅋㅋㅋㅋㅋ&quot;, &quot;스타 붐이 다시 오다니ㄷㄷㄷ&quot; 등의... ',\n",
       "   'pubDate': 'Mon, 21 Jun 2021 18:02:00 +0900'},\n",
       "  {'title': '&quot;컴맹이 독학 1년만에 의료용 AI 만들었지요&quot;',\n",
       "   'originallink': 'https://www.sedaily.com/NewsView/22NQ1ECG58',\n",
       "   'link': 'https://news.naver.com/main/read.nhn?mode=LSD&mid=sec&sid1=102&oid=011&aid=0003926273',\n",
       "   'description': '지난해 국내에서 코로나19 사태가 터져 퇴근해도 외출하지 못한 채 ‘자가대기’를 하게 되자 일과 후 시간을 컴퓨터프로그래밍언어의 일종인 ‘<b>파이썬</b>’ 공부에 쏟게 됐다. 그는 “예전부터 하나의 기술을 잘 개발해서... ',\n",
       "   'pubDate': 'Mon, 21 Jun 2021 17:57:00 +0900'},\n",
       "  {'title': '에듀테크 ‘지니로봇’, 투자 유치',\n",
       "   'originallink': 'https://www.venturesquare.net/831387',\n",
       "   'link': 'https://www.venturesquare.net/831387',\n",
       "   'description': '지니봇은 언플러그드 카드 코딩부터 전용 앱, 엔트리, 스크래치 3.0, <b>파이썬</b> 등 활용이 가능하며, 비대면 환경에서 LIMS를 통해 선생님과 학생이 양방향으로 평가, 분석 및 맞춤형 교육이 가능하도록 개발했다.... ',\n",
       "   'pubDate': 'Mon, 21 Jun 2021 16:42:00 +0900'},\n",
       "  {'title': \"CJ올리브네트웍스, GIST와 'K-디지털 트레이닝' 교육사업 추진\",\n",
       "   'originallink': 'https://www.itbiznews.com/news/articleView.html?idxno=40798',\n",
       "   'link': 'https://www.itbiznews.com/news/articleView.html?idxno=40798',\n",
       "   'description': '과정은 온오프라인이 결합된 중급과정으로 <b>파이썬</b>(Python) 등 AI 관련 기초지식을 갖춘 교육생을 선발, 현장 중심의 교육을 제공한다. 정규 교과과정과 AI, 클라우드, 빅데이터가 융합된 비즈니스 문제를 해결하는... ',\n",
       "   'pubDate': 'Mon, 21 Jun 2021 15:40:00 +0900'}]}"
      ]
     },
     "execution_count": 12,
     "metadata": {},
     "output_type": "execute_result"
    }
   ],
   "source": [
    "news_data[0]"
   ]
  },
  {
   "cell_type": "code",
   "execution_count": 13,
   "metadata": {
    "scrolled": true
   },
   "outputs": [
    {
     "data": {
      "text/plain": [
       "[{'title': 'KT 중소기업 교육 최우수 기관 선정',\n",
       "  'originallink': 'http://www.wsobi.com/news/articleView.html?idxno=126212',\n",
       "  'link': 'http://www.wsobi.com/news/articleView.html?idxno=126212',\n",
       "  'description': \"이밖에 KT는 통신기업에서 디지털플랫폼 기업 '디지코(Digico)'로의 전환에 맞춰 올해 중소기업의 AI역량을 강화하고 이해도를 높이기 위해 '사례로 알아보는 AI 적용 기술'과 '<b>파이썬</b> 기초 프로그래밍' 등 신규... \",\n",
       "  'pubDate': 'Tue, 22 Jun 2021 15:38:00 +0900'},\n",
       " {'title': '[인터뷰] 조재희 한국폴리텍대학\\xa0이사장 &quot;글로벌\\xa0선도대학\\xa0육성에 총력&quot;',\n",
       "  'originallink': 'http://www.newsfreezone.co.kr/news/articleView.html?idxno=322292',\n",
       "  'link': 'http://www.newsfreezone.co.kr/news/articleView.html?idxno=322292',\n",
       "  'description': 'IT 전공자\\xa0대상으로는\\xa0<b>파이썬</b>을\\xa0이용한\\xa0라즈베리\\xa0파이(초소형\\xa0컴퓨터) 제어, \\xa0AI머신러닝\\xa0알고리즘\\xa0실습\\xa0등\\xa0AI+x 심화교육을,\\xa0기타\\xa0전공자\\xa0대상으로는\\xa0생활\\xa0속에서\\xa0경험하는\\xa0인공지능, 블록코딩을\\xa0통한... ',\n",
       "  'pubDate': 'Tue, 22 Jun 2021 10:00:00 +0900'},\n",
       " {'title': \"CJ올리브네트웍스, GIST와 'K-디지털 트레이닝' 사업 공동 추진\",\n",
       "  'originallink': 'http://www.industrynews.co.kr/news/articleView.html?idxno=42746',\n",
       "  'link': 'http://www.industrynews.co.kr/news/articleView.html?idxno=42746',\n",
       "  'description': '이번 과정은 온·오프라인이 결합된 중급과정으로 <b>파이썬</b>(Python) 등 AI 관련 기초 지식을 갖춘 교육생을 선발해 현장 중심의 교육을 제공한다. 정규교과 과정과 인공지능, 클라우드, 빅데이터가 융합된 비즈니스 문제를... ',\n",
       "  'pubDate': 'Tue, 22 Jun 2021 08:56:00 +0900'},\n",
       " {'title': \"CJ올리브네트웍스, 'K-디지털 트레이닝' 사업 추진...AI분야 인재 양성\",\n",
       "  'originallink': 'http://www.koreaittimes.com/news/articleView.html?idxno=106697',\n",
       "  'link': 'http://www.koreaittimes.com/news/articleView.html?idxno=106697',\n",
       "  'description': '이번 교육은 온·오프라인이 결합된 중급과정으로 <b>파이썬</b>(Python) 등 AI 관련 기초 지식을 갖춘 교육생에게 교육을 제공한다. 인공지능, 클라우드, 빅데이터가 융합된 비즈니스 문제를 해결하는 프로젝트 PBL(Project... ',\n",
       "  'pubDate': 'Mon, 21 Jun 2021 23:18:00 +0900'},\n",
       " {'title': \"CJ올리브네트웍스-광주과학기술원(GIST), 'K-디지털 트레이닝' 교육 참여\",\n",
       "  'originallink': 'https://www.dailysecu.com/news/articleView.html?idxno=125777',\n",
       "  'link': 'https://www.dailysecu.com/news/articleView.html?idxno=125777',\n",
       "  'description': '이번 과정은 온오프라인이 결합된 중급과정으로 <b>파이썬</b> 등 AI 관련 기초 지식을 갖춘 교육생을 선발하여 현장 중심의 교육을 제공한다. 정규 교과과정과 인공지능, 클라우드, 빅데이터가 융합된 비즈니스 문제를... ',\n",
       "  'pubDate': 'Mon, 21 Jun 2021 22:54:00 +0900'},\n",
       " {'title': 'CJ올리브네트웍스 AI인재 육성 앞장',\n",
       "  'originallink': 'http://www.fnnews.com/news/202106211812403118',\n",
       "  'link': 'https://news.naver.com/main/read.nhn?mode=LSD&mid=sec&sid1=105&oid=014&aid=0004660867',\n",
       "  'description': '이번 과정은 온·오프라인이 결합된 중급과정으로 <b>파이썬</b> 등 AI 관련 기초 지식을 갖춘 교육생을 선발해 현장 중심의 교육을 제공한다. 정규교과 과정과 AI, 클라우드, 빅데이터가 융합된 비즈니스 문제를 해결하는... ',\n",
       "  'pubDate': 'Mon, 21 Jun 2021 18:13:00 +0900'},\n",
       " {'title': \"&quot;저그 합니다&quot;…김계란, '스타' 콘텐츠 예고→에이전트H 등판\",\n",
       "  'originallink': 'https://www.xportsnews.com/?ac=article_view&entry_id=1439283',\n",
       "  'link': 'https://news.naver.com/main/read.nhn?mode=LSD&mid=sec&sid1=106&oid=311&aid=0001313363',\n",
       "  'description': '김계란은 &quot;1:1 <b>파이썬</b> 초보만 S2&quot;라고 답글을 남겼다. 이에 네티즌들은 &quot;혁준상 이제 잡으러 갑니다 찍으시는건가&quot;, &quot;스쿼트 하면서 스타하기&quot;, &quot;도대체 언제적 <b>파이썬</b>이얔ㅋㅋㅋㅋㅋ&quot;, &quot;스타 붐이 다시 오다니ㄷㄷㄷ&quot; 등의... ',\n",
       "  'pubDate': 'Mon, 21 Jun 2021 18:02:00 +0900'},\n",
       " {'title': '&quot;컴맹이 독학 1년만에 의료용 AI 만들었지요&quot;',\n",
       "  'originallink': 'https://www.sedaily.com/NewsView/22NQ1ECG58',\n",
       "  'link': 'https://news.naver.com/main/read.nhn?mode=LSD&mid=sec&sid1=102&oid=011&aid=0003926273',\n",
       "  'description': '지난해 국내에서 코로나19 사태가 터져 퇴근해도 외출하지 못한 채 ‘자가대기’를 하게 되자 일과 후 시간을 컴퓨터프로그래밍언어의 일종인 ‘<b>파이썬</b>’ 공부에 쏟게 됐다. 그는 “예전부터 하나의 기술을 잘 개발해서... ',\n",
       "  'pubDate': 'Mon, 21 Jun 2021 17:57:00 +0900'},\n",
       " {'title': '에듀테크 ‘지니로봇’, 투자 유치',\n",
       "  'originallink': 'https://www.venturesquare.net/831387',\n",
       "  'link': 'https://www.venturesquare.net/831387',\n",
       "  'description': '지니봇은 언플러그드 카드 코딩부터 전용 앱, 엔트리, 스크래치 3.0, <b>파이썬</b> 등 활용이 가능하며, 비대면 환경에서 LIMS를 통해 선생님과 학생이 양방향으로 평가, 분석 및 맞춤형 교육이 가능하도록 개발했다.... ',\n",
       "  'pubDate': 'Mon, 21 Jun 2021 16:42:00 +0900'},\n",
       " {'title': \"CJ올리브네트웍스, GIST와 'K-디지털 트레이닝' 교육사업 추진\",\n",
       "  'originallink': 'https://www.itbiznews.com/news/articleView.html?idxno=40798',\n",
       "  'link': 'https://www.itbiznews.com/news/articleView.html?idxno=40798',\n",
       "  'description': '과정은 온오프라인이 결합된 중급과정으로 <b>파이썬</b>(Python) 등 AI 관련 기초지식을 갖춘 교육생을 선발, 현장 중심의 교육을 제공한다. 정규 교과과정과 AI, 클라우드, 빅데이터가 융합된 비즈니스 문제를 해결하는... ',\n",
       "  'pubDate': 'Mon, 21 Jun 2021 15:40:00 +0900'}]"
      ]
     },
     "execution_count": 13,
     "metadata": {},
     "output_type": "execute_result"
    }
   ],
   "source": [
    "news_data[0]['items']"
   ]
  },
  {
   "cell_type": "code",
   "execution_count": 14,
   "metadata": {},
   "outputs": [
    {
     "data": {
      "text/plain": [
       "{'title': 'KT 중소기업 교육 최우수 기관 선정',\n",
       " 'originallink': 'http://www.wsobi.com/news/articleView.html?idxno=126212',\n",
       " 'link': 'http://www.wsobi.com/news/articleView.html?idxno=126212',\n",
       " 'description': \"이밖에 KT는 통신기업에서 디지털플랫폼 기업 '디지코(Digico)'로의 전환에 맞춰 올해 중소기업의 AI역량을 강화하고 이해도를 높이기 위해 '사례로 알아보는 AI 적용 기술'과 '<b>파이썬</b> 기초 프로그래밍' 등 신규... \",\n",
       " 'pubDate': 'Tue, 22 Jun 2021 15:38:00 +0900'}"
      ]
     },
     "execution_count": 14,
     "metadata": {},
     "output_type": "execute_result"
    }
   ],
   "source": [
    "news_data[0]['items'][0]"
   ]
  },
  {
   "cell_type": "code",
   "execution_count": 15,
   "metadata": {},
   "outputs": [
    {
     "name": "stdout",
     "output_type": "stream",
     "text": [
      "http://www.wsobi.com/news/articleView.html?idxno=126212\n"
     ]
    }
   ],
   "source": [
    "print(news_data[0]['items'][0]['link'])"
   ]
  },
  {
   "cell_type": "markdown",
   "metadata": {},
   "source": [
    "### 가져온 URL이 네이버 뉴스인지 확인하기."
   ]
  },
  {
   "cell_type": "code",
   "execution_count": 16,
   "metadata": {},
   "outputs": [
    {
     "data": {
      "text/plain": [
       "[['https://news.naver.com/main/read.nhn?mode=LSD&mid=sec&sid1=105&oid=014&aid=0004660867',\n",
       "  'https://news.naver.com/main/read.nhn?mode=LSD&mid=sec&sid1=106&oid=311&aid=0001313363',\n",
       "  'https://news.naver.com/main/read.nhn?mode=LSD&mid=sec&sid1=102&oid=011&aid=0003926273'],\n",
       " ['https://news.naver.com/main/read.nhn?mode=LSD&mid=sec&sid1=101&oid=003&aid=0010562740',\n",
       "  'https://news.naver.com/main/read.nhn?mode=LSD&mid=sec&sid1=102&oid=008&aid=0004604611',\n",
       "  'https://news.naver.com/main/read.nhn?mode=LSD&mid=sec&sid1=105&oid=016&aid=0001851020'],\n",
       " ['https://news.naver.com/main/read.nhn?mode=LSD&mid=sec&sid1=105&oid=138&aid=0002105413',\n",
       "  'https://news.naver.com/main/read.nhn?mode=LSD&mid=sec&sid1=101&oid=123&aid=0002248535',\n",
       "  'https://news.naver.com/main/read.nhn?mode=LSD&mid=sec&sid1=105&oid=018&aid=0004963361']]"
      ]
     },
     "execution_count": 16,
     "metadata": {},
     "output_type": "execute_result"
    }
   ],
   "source": [
    "naver_news_link = []\n",
    "\n",
    "for page in news_data:    \n",
    "\n",
    "    page_news_link = []\n",
    "\n",
    "    for item in page['items']:\n",
    "        link = item['link']\n",
    "        if \"naver\" in link:\n",
    "            page_news_link.append(link)\n",
    "\n",
    "    naver_news_link.append(page_news_link)\n",
    "\n",
    "naver_news_link"
   ]
  },
  {
   "cell_type": "markdown",
   "metadata": {},
   "source": [
    "### 네이버 뉴스 기사 크롤링!"
   ]
  },
  {
   "cell_type": "code",
   "execution_count": 17,
   "metadata": {},
   "outputs": [],
   "source": [
    "import pandas as pd\n",
    "import numpy as np\n",
    "from selenium import webdriver\n",
    "from tqdm.notebook import tqdm\n",
    "import requests\n",
    "import pickle\n",
    "import re\n",
    "import ast\n",
    "\n",
    "from bs4 import BeautifulSoup \n",
    "from urllib.request import urlopen\n",
    "import urllib\n",
    "import time"
   ]
  },
  {
   "cell_type": "code",
   "execution_count": 18,
   "metadata": {
    "scrolled": false
   },
   "outputs": [],
   "source": [
    "# 가상 크롬드라이버를 불러옴.\n",
    "# 윈도우 10의 경우 chromedriver.exe\n",
    "driver = webdriver.Chrome(\"D:\\\\포스코 아카데미\\\\FastCampus\\\\chromedriver.exe\")"
   ]
  },
  {
   "cell_type": "code",
   "execution_count": 19,
   "metadata": {},
   "outputs": [
    {
     "data": {
      "application/vnd.jupyter.widget-view+json": {
       "model_id": "ba7c4a8a7b584f388a8a80d81f09f941",
       "version_major": 2,
       "version_minor": 0
      },
      "text/plain": [
       "  0%|          | 0/3 [00:00<?, ?it/s]"
      ]
     },
     "metadata": {},
     "output_type": "display_data"
    },
    {
     "data": {
      "application/vnd.jupyter.widget-view+json": {
       "model_id": "a46b47ea9848400d818e98aa742e9416",
       "version_major": 2,
       "version_minor": 0
      },
      "text/plain": [
       "  0%|          | 0/3 [00:00<?, ?it/s]"
      ]
     },
     "metadata": {},
     "output_type": "display_data"
    },
    {
     "name": "stdout",
     "output_type": "stream",
     "text": [
      "https://news.naver.com/main/read.nhn?mode=LSD&mid=sec&sid1=105&oid=014&aid=0004660867\n",
      "https://news.naver.com/main/read.nhn?mode=LSD&mid=sec&sid1=106&oid=311&aid=0001313363\n",
      "https://news.naver.com/main/read.nhn?mode=LSD&mid=sec&sid1=102&oid=011&aid=0003926273\n"
     ]
    },
    {
     "data": {
      "application/vnd.jupyter.widget-view+json": {
       "model_id": "0efd224166134ba5aa616300d1b2ab83",
       "version_major": 2,
       "version_minor": 0
      },
      "text/plain": [
       "  0%|          | 0/3 [00:00<?, ?it/s]"
      ]
     },
     "metadata": {},
     "output_type": "display_data"
    },
    {
     "name": "stdout",
     "output_type": "stream",
     "text": [
      "https://news.naver.com/main/read.nhn?mode=LSD&mid=sec&sid1=101&oid=003&aid=0010562740\n",
      "https://news.naver.com/main/read.nhn?mode=LSD&mid=sec&sid1=102&oid=008&aid=0004604611\n",
      "https://news.naver.com/main/read.nhn?mode=LSD&mid=sec&sid1=105&oid=016&aid=0001851020\n"
     ]
    },
    {
     "data": {
      "application/vnd.jupyter.widget-view+json": {
       "model_id": "93633800c2fa4ae39f8f47a43bf834ad",
       "version_major": 2,
       "version_minor": 0
      },
      "text/plain": [
       "  0%|          | 0/3 [00:00<?, ?it/s]"
      ]
     },
     "metadata": {},
     "output_type": "display_data"
    },
    {
     "name": "stdout",
     "output_type": "stream",
     "text": [
      "https://news.naver.com/main/read.nhn?mode=LSD&mid=sec&sid1=105&oid=138&aid=0002105413\n",
      "https://news.naver.com/main/read.nhn?mode=LSD&mid=sec&sid1=101&oid=123&aid=0002248535\n",
      "https://news.naver.com/main/read.nhn?mode=LSD&mid=sec&sid1=105&oid=018&aid=0004963361\n",
      "['CJ올리브네트웍스 AI인재 육성 앞장', 'OUTLINK', '\"컴맹이 독학 1년만에 의료용 AI 만들었지요\"']\n",
      "==================================\n",
      "['   본문 내용     TV플레이어     // TV플레이어     // flash 오류를 우회하기 위한 함수 추가 function _flash_removeCallback() {}    광주과학기술원과 손잡고 K디지털 트레이닝 교육 참여   CJ올리브네트웍스가 광주과학기술원(GIST)과 함께 \\'K-디지털 트레이닝\\' 교육에 참여해 인공지능(AI)분야 인재 양성을 지원한다.     21일 CJ올리브네트웍스에 따르면, GIST는 한국판 뉴딜 사업의 일환으로 고용노동부가 주관하는 K-디지털 직업훈련 사업자에 선정됐다. K-디지털 직업훈련은 크게 플랫폼, 트레이닝, 크레딧 총 세 가지로 구성, CJ올리브네트웍스는 이 중 트레이닝 교육 사업에 참여한다.     K-디지털 트레이닝은 문제해결 능력 향상을 위한 새로운 훈련방식을 활용, 디지털 신기술 분야의 핵심 인력을 양성하기 위한 교육과정이다. 특히 기업 수요를 조사하고, 실제 기업에서 추진하는 비즈니스 중심의 프로젝트를 설계하여 산업에 즉시 투입 가능한 인재를 양성한다.     GIST는 성공적인 K-디지털 트레이닝을 위해 CJ올리브네트웍스를 포함하여 메가존클라우드, 드림에이스, 인공지능협회 등 컨소시엄을 구성했다.     이번 과정은 온·오프라인이 결합된 중급과정으로 파이썬 등 AI 관련 기초 지식을 갖춘 교육생을 선발해 현장 중심의 교육을 제공한다. 정규교과 과정과 AI, 클라우드, 빅데이터가 융합된 비즈니스 문제를 해결하는 프로젝트 PBL 과정 등 총 350시간 동안 참가생들의 AI 직무능력 향상을 지원한다.     CJ올리브네트웍스는 지난 4월 tvN 드라마 나빌레라에 지원하며 시청자들에게 몰입감 높은 감동을 선사한 페이스에디팅의 AI서비스, 원료 및 영양소 기반 식품 추천 시스템, 영상요약 AI서비스 등 인공지능을 주제로 한 3개의 프로젝트를 구성, 총 80시간의 교육을 진행한다.     손종수 CJ올리브네트웍스 AI-Core 연구소장은 \"실제 기업에서 고민하는 문제를 함께 고민하고 해결해보는 프로젝트로 참가자들의 성장에 도움이 되도록 지원하겠다\"고 말했다.   monarch@fnnews.com 김만기 기자   ▶ 날로먹고 구워먹는 금융이슈 [파인애플] ▶ 모(毛)아 모아 [모아시스] ▶ 헉! 소리나는 스!토리 뉴스 [헉스]     ※ 저작권자 ⓒ 파이낸셜뉴스. 무단 전재-재배포 금지 \\t  // 본문 내용   ', 'OUTLINK', '   본문 내용     TV플레이어     // TV플레이어     // flash 오류를 우회하기 위한 함수 추가 function _flash_removeCallback() {}    환자 맞춤진료 추천 챗봇 개발한 이현훈 육군 대위 코로나로 \\'자가 대기\\' 신세 되자 인강으로 프로그래밍언어 배워 국방부 주관 대회서 장관상 수상 국제학술지 논문 게재 성과 이뤄 \"정확한 치료 위해 공부 계속할 것\" 군의관인 이현훈 육군 9사단 대위가 스마트폰으로 환자와 대화하며 적절한 진료서비스를 추천할 수 있도록 개발한 의료용 AI 를 소개하고 있다. /사진제공=육군9사단 [서울경제]  “저는 1년 전까지만 해도 컴퓨터 관련 기술을 전혀 몰랐습니다. 이후 온라인강의 등으로 컴퓨터 언어를 공부해 의료용 인공지능( AI )을 개발하게 됐습니다.” 정보기술( IT )에 문외한이던 군의관이 약  14 개월 만에 거의 독학으로 컴퓨터 프로그래밍을 배워 스마트폰으로 사람과 대화하며 맞춤 진료를 추천해주는 대화형  AI 서비스(일명 ‘챗봇’)을 개발해 화제다. 주인공은 육군 제 9사단의 이현훈(사진) 대위. 이 대위는  21 일 서울경제와 인터뷰에서 “현재는 군의관으로서 맡은 임무에 최선을 다하면서 내년에 전역할 때까지 ( AI  관련) 공부를 더 할 것”이라며 “환자들이, 혹은 일반 국민들이 챗봇을 통해 더 정확하고, 더 쾌적한 치료를 받을 수 있도록 하기 위해 어떻게 (추가로  AI 알고리즘을) 개발해야 할 지 공부하고 있다”고 밝혔다. 의료용 AI  개발한 이현훈 육군 9사단 대위가 군의관으로 근무하는 영내 장비들을 소개하고 있다. /사진제공=육군 9사단 2009 년 학번인 이 대위는 경희대 한방 병원에서 인턴 및 레지던트 과정을 거친 한의사 전문의다. 군에 의무사관 후보생으로 등록됐던 그는  2019 년 4월 군의관으로 임관했다. 지난해 국내에서 코로나 19  사태가 터져 퇴근해도 외출하지 못한 채 ‘자가대기’를 하게 되자 일과 후 시간을 컴퓨터프로그래밍언어의 일종인 ‘파이썬’ 공부에 쏟게 됐다. 그는 “예전부터 하나의 기술을 잘 개발해서 수 많은 사람들을 도와주는 것을 꿈 꿔왔다”며 “특히 의료 AI 기술은 의학계에서는 거스를 수 없는 발전 방향이어서 작년 5월부터 이 분야를 공부하고 도전하게 됐다”고 파이선 공부의 계기를 소개했다. 이 대위는  IT 전문가들이 재능기부 차원에서 인터넷을 통해 공개한 애플리케이션(앱) 및  AI 알고리즘 개발 강의 등을 접하게 됐다. 또한 한국보건복지인력개발원의 ‘정밀의료인재양성사업’의 도움을 받아  AI 관련 공부를 지속할 수 있었다. 그러던 이 대위는 국방부 주관의 ‘군 장병 온라인 해커톤’ 대회 개최 소식을 들었다. 한 달의 기간 동안 앱이나 웹서비스를 개발하는 경진대회였다. 그는 컴퓨터과학 분야를 전공한 2명의 장병과 함께 3인조 연구팀을 꾸려 한 달 만에 의료챗봇 서비스를 개발할 수 있었다. 그 결과 지난해  11 월 국방부 장관상을 수상했다. 의료용  AI 를 개발한 육군 9사단 군의관 이현훈 대위/사진제공=육군9사단 수상작의 제목은 ‘국군 장병을 위한  AI 기반 비대면 의료서비스 메디텍트( Meditact )’였다. 제목 그대로 원래는 군 장병 전용으로 개발한 기술이었다. 이 대위는 이 기술을 일반 국민들을 대상에게도 적용할 수 있는  AI 가 될 수 있도록 알고리즘을 고도화하기로 마음먹었다. 지난해  11 월에 해당 작업을 시작해서 3개월 만에 작업을 완료할 수 있었다. 스마트폰으로 환자가 대화하듯이 자연어로 챗봇에게 증상을 알려주면 해당 챗봇이 적절한 진료서비스를 추천해주는 기술이다. 이를 정리한 연구논문은 올해 5월 국제 의료정보학 국제학술지 ‘ JMIR’ 에 게재됐다. 이 대위는 “군의관으로서 임무에 최선을 다하면서 내년 전역할 때까지 국민들이 챗봇을 통해 더 정확하고 더 쾌적한 치료를 받을 수 있도록 하기 위해 기술을 공부할 것”이라며 “전역 후에도 이 기술을 실용화할 수 있는 분야에 진출해 진료와 연구, 개발을 동시에 진행할 것”이라고 포부를 밝혔다. /민병권 기자  newsroom @ sedaily.com ▶ [지구용] 투명해진 맥주병, 그런데 말입니다... ▶ 서울경제 더 폴리틱스 뉴스를 만나보세요! ▶ 미슐랭 가이드처럼 알찬 부동산 뉴스 \\'집슐랭\\' 저작권자 ⓒ 서울경제, 무단 전재 및 재배포 금지 \\t  // 본문 내용   ']\n"
     ]
    }
   ],
   "source": [
    "# 전체 크롤링 뉴스 제목/본문\n",
    "naver_news_title = []\n",
    "naver_news_content = []\n",
    "\n",
    "\n",
    "for n in tqdm(range(len(naver_news_link))):\n",
    "    #print(n)\n",
    "    # 페이지별 크롤링 뉴스 제목/본문\n",
    "    news_page_title = []\n",
    "    news_page_content = []\n",
    "    \n",
    "    for idx in tqdm(range(len(naver_news_link[n]))):\n",
    "        \n",
    "        \n",
    "    ########### 긁어온 URL로 접속하기 ############    \n",
    "        # 네트워크 상 문제로 지연될 때 대비 예외문\n",
    "        try:\n",
    "            driver.get(naver_news_link[n][idx])\n",
    "            print(naver_news_link[n][idx])\n",
    "            \n",
    "        except:\n",
    "            print(\"Timeout!\")\n",
    "            continue\n",
    "        \n",
    "        # 페이지가 삭제 되었을 때 대비 예외문\n",
    "        try:\n",
    "            response = driver.page_source\n",
    "            \n",
    "        except UnexpectedAlertPresentException:\n",
    "            driver.switch_to_alert().accept()\n",
    "            print(\"게시글이 삭제된 경우입니다.\")\n",
    "            continue\n",
    "        \n",
    "        soup = BeautifulSoup(response, \"html.parser\")\n",
    "        \n",
    "        ###### 뉴스 타이틀 긁어오기 ######\n",
    "        \n",
    "        title = None\n",
    "        \n",
    "        try:\n",
    "            item = soup.find('div', class_=\"article_info\")\n",
    "            title = item.find('h3', class_=\"tts_head\").get_text()\n",
    "            #print(title)\n",
    "\n",
    "        except:\n",
    "            title = \"OUTLINK\"\n",
    "        \n",
    "        #print(title)\n",
    "        news_page_title.append(title)\n",
    "        \n",
    "        \n",
    "        ###### 뉴스 본문 긁어오기 ######\n",
    "        \n",
    "        doc = None\n",
    "        text = \"\"\n",
    "                \n",
    "        data = soup.find_all(\"div\", {\"class\" : \"_article_body_contents\"})\n",
    "        if data:\n",
    "            for item in data:\n",
    "\n",
    "                text = text + str(item.find_all(text=True)).strip()\n",
    "                text = ast.literal_eval(text)\n",
    "                doc = ' '.join(text)\n",
    "   \n",
    "        else:\n",
    "            doc = \"OUTLINK\"\n",
    "            \n",
    "        news_page_content.append(doc.replace('\\n', ' '))\n",
    "\n",
    "                \n",
    "    naver_news_title.append(news_page_title)\n",
    "    naver_news_content.append(news_page_content)\n",
    "\n",
    "    time.sleep(2)\n",
    "    \n",
    "    \n",
    "print(naver_news_title[0])\n",
    "print(\"==================================\")\n",
    "print(naver_news_content[0])"
   ]
  },
  {
   "cell_type": "markdown",
   "metadata": {},
   "source": [
    "### 크롤링 결과 확인하기."
   ]
  },
  {
   "cell_type": "code",
   "execution_count": 20,
   "metadata": {},
   "outputs": [
    {
     "name": "stdout",
     "output_type": "stream",
     "text": [
      "['CJ올리브네트웍스 AI인재 육성 앞장', 'OUTLINK', '\"컴맹이 독학 1년만에 의료용 AI 만들었지요\"']\n"
     ]
    }
   ],
   "source": [
    "print(naver_news_title[0])"
   ]
  },
  {
   "cell_type": "code",
   "execution_count": 21,
   "metadata": {},
   "outputs": [
    {
     "name": "stdout",
     "output_type": "stream",
     "text": [
      "['   본문 내용     TV플레이어     // TV플레이어     // flash 오류를 우회하기 위한 함수 추가 function _flash_removeCallback() {}    광주과학기술원과 손잡고 K디지털 트레이닝 교육 참여   CJ올리브네트웍스가 광주과학기술원(GIST)과 함께 \\'K-디지털 트레이닝\\' 교육에 참여해 인공지능(AI)분야 인재 양성을 지원한다.     21일 CJ올리브네트웍스에 따르면, GIST는 한국판 뉴딜 사업의 일환으로 고용노동부가 주관하는 K-디지털 직업훈련 사업자에 선정됐다. K-디지털 직업훈련은 크게 플랫폼, 트레이닝, 크레딧 총 세 가지로 구성, CJ올리브네트웍스는 이 중 트레이닝 교육 사업에 참여한다.     K-디지털 트레이닝은 문제해결 능력 향상을 위한 새로운 훈련방식을 활용, 디지털 신기술 분야의 핵심 인력을 양성하기 위한 교육과정이다. 특히 기업 수요를 조사하고, 실제 기업에서 추진하는 비즈니스 중심의 프로젝트를 설계하여 산업에 즉시 투입 가능한 인재를 양성한다.     GIST는 성공적인 K-디지털 트레이닝을 위해 CJ올리브네트웍스를 포함하여 메가존클라우드, 드림에이스, 인공지능협회 등 컨소시엄을 구성했다.     이번 과정은 온·오프라인이 결합된 중급과정으로 파이썬 등 AI 관련 기초 지식을 갖춘 교육생을 선발해 현장 중심의 교육을 제공한다. 정규교과 과정과 AI, 클라우드, 빅데이터가 융합된 비즈니스 문제를 해결하는 프로젝트 PBL 과정 등 총 350시간 동안 참가생들의 AI 직무능력 향상을 지원한다.     CJ올리브네트웍스는 지난 4월 tvN 드라마 나빌레라에 지원하며 시청자들에게 몰입감 높은 감동을 선사한 페이스에디팅의 AI서비스, 원료 및 영양소 기반 식품 추천 시스템, 영상요약 AI서비스 등 인공지능을 주제로 한 3개의 프로젝트를 구성, 총 80시간의 교육을 진행한다.     손종수 CJ올리브네트웍스 AI-Core 연구소장은 \"실제 기업에서 고민하는 문제를 함께 고민하고 해결해보는 프로젝트로 참가자들의 성장에 도움이 되도록 지원하겠다\"고 말했다.   monarch@fnnews.com 김만기 기자   ▶ 날로먹고 구워먹는 금융이슈 [파인애플] ▶ 모(毛)아 모아 [모아시스] ▶ 헉! 소리나는 스!토리 뉴스 [헉스]     ※ 저작권자 ⓒ 파이낸셜뉴스. 무단 전재-재배포 금지 \\t  // 본문 내용   ', 'OUTLINK', '   본문 내용     TV플레이어     // TV플레이어     // flash 오류를 우회하기 위한 함수 추가 function _flash_removeCallback() {}    환자 맞춤진료 추천 챗봇 개발한 이현훈 육군 대위 코로나로 \\'자가 대기\\' 신세 되자 인강으로 프로그래밍언어 배워 국방부 주관 대회서 장관상 수상 국제학술지 논문 게재 성과 이뤄 \"정확한 치료 위해 공부 계속할 것\" 군의관인 이현훈 육군 9사단 대위가 스마트폰으로 환자와 대화하며 적절한 진료서비스를 추천할 수 있도록 개발한 의료용 AI 를 소개하고 있다. /사진제공=육군9사단 [서울경제]  “저는 1년 전까지만 해도 컴퓨터 관련 기술을 전혀 몰랐습니다. 이후 온라인강의 등으로 컴퓨터 언어를 공부해 의료용 인공지능( AI )을 개발하게 됐습니다.” 정보기술( IT )에 문외한이던 군의관이 약  14 개월 만에 거의 독학으로 컴퓨터 프로그래밍을 배워 스마트폰으로 사람과 대화하며 맞춤 진료를 추천해주는 대화형  AI 서비스(일명 ‘챗봇’)을 개발해 화제다. 주인공은 육군 제 9사단의 이현훈(사진) 대위. 이 대위는  21 일 서울경제와 인터뷰에서 “현재는 군의관으로서 맡은 임무에 최선을 다하면서 내년에 전역할 때까지 ( AI  관련) 공부를 더 할 것”이라며 “환자들이, 혹은 일반 국민들이 챗봇을 통해 더 정확하고, 더 쾌적한 치료를 받을 수 있도록 하기 위해 어떻게 (추가로  AI 알고리즘을) 개발해야 할 지 공부하고 있다”고 밝혔다. 의료용 AI  개발한 이현훈 육군 9사단 대위가 군의관으로 근무하는 영내 장비들을 소개하고 있다. /사진제공=육군 9사단 2009 년 학번인 이 대위는 경희대 한방 병원에서 인턴 및 레지던트 과정을 거친 한의사 전문의다. 군에 의무사관 후보생으로 등록됐던 그는  2019 년 4월 군의관으로 임관했다. 지난해 국내에서 코로나 19  사태가 터져 퇴근해도 외출하지 못한 채 ‘자가대기’를 하게 되자 일과 후 시간을 컴퓨터프로그래밍언어의 일종인 ‘파이썬’ 공부에 쏟게 됐다. 그는 “예전부터 하나의 기술을 잘 개발해서 수 많은 사람들을 도와주는 것을 꿈 꿔왔다”며 “특히 의료 AI 기술은 의학계에서는 거스를 수 없는 발전 방향이어서 작년 5월부터 이 분야를 공부하고 도전하게 됐다”고 파이선 공부의 계기를 소개했다. 이 대위는  IT 전문가들이 재능기부 차원에서 인터넷을 통해 공개한 애플리케이션(앱) 및  AI 알고리즘 개발 강의 등을 접하게 됐다. 또한 한국보건복지인력개발원의 ‘정밀의료인재양성사업’의 도움을 받아  AI 관련 공부를 지속할 수 있었다. 그러던 이 대위는 국방부 주관의 ‘군 장병 온라인 해커톤’ 대회 개최 소식을 들었다. 한 달의 기간 동안 앱이나 웹서비스를 개발하는 경진대회였다. 그는 컴퓨터과학 분야를 전공한 2명의 장병과 함께 3인조 연구팀을 꾸려 한 달 만에 의료챗봇 서비스를 개발할 수 있었다. 그 결과 지난해  11 월 국방부 장관상을 수상했다. 의료용  AI 를 개발한 육군 9사단 군의관 이현훈 대위/사진제공=육군9사단 수상작의 제목은 ‘국군 장병을 위한  AI 기반 비대면 의료서비스 메디텍트( Meditact )’였다. 제목 그대로 원래는 군 장병 전용으로 개발한 기술이었다. 이 대위는 이 기술을 일반 국민들을 대상에게도 적용할 수 있는  AI 가 될 수 있도록 알고리즘을 고도화하기로 마음먹었다. 지난해  11 월에 해당 작업을 시작해서 3개월 만에 작업을 완료할 수 있었다. 스마트폰으로 환자가 대화하듯이 자연어로 챗봇에게 증상을 알려주면 해당 챗봇이 적절한 진료서비스를 추천해주는 기술이다. 이를 정리한 연구논문은 올해 5월 국제 의료정보학 국제학술지 ‘ JMIR’ 에 게재됐다. 이 대위는 “군의관으로서 임무에 최선을 다하면서 내년 전역할 때까지 국민들이 챗봇을 통해 더 정확하고 더 쾌적한 치료를 받을 수 있도록 하기 위해 기술을 공부할 것”이라며 “전역 후에도 이 기술을 실용화할 수 있는 분야에 진출해 진료와 연구, 개발을 동시에 진행할 것”이라고 포부를 밝혔다. /민병권 기자  newsroom @ sedaily.com ▶ [지구용] 투명해진 맥주병, 그런데 말입니다... ▶ 서울경제 더 폴리틱스 뉴스를 만나보세요! ▶ 미슐랭 가이드처럼 알찬 부동산 뉴스 \\'집슐랭\\' 저작권자 ⓒ 서울경제, 무단 전재 및 재배포 금지 \\t  // 본문 내용   ']\n"
     ]
    }
   ],
   "source": [
    "print(naver_news_content[0])"
   ]
  },
  {
   "cell_type": "code",
   "execution_count": 22,
   "metadata": {},
   "outputs": [
    {
     "name": "stdout",
     "output_type": "stream",
     "text": [
      "3\n",
      "3\n"
     ]
    }
   ],
   "source": [
    "print(len(naver_news_title[0]))\n",
    "print(len(naver_news_content[0]))"
   ]
  },
  {
   "cell_type": "markdown",
   "metadata": {},
   "source": [
    "### 크롤링 결과 저장하기."
   ]
  },
  {
   "cell_type": "code",
   "execution_count": 23,
   "metadata": {},
   "outputs": [],
   "source": [
    "with open(\"naver_news_title.pk\", \"wb\") as f:\n",
    "    pickle.dump(naver_news_title, f)\n",
    "    \n",
    "with open(\"naver_news_content.pk\", 'wb') as f:\n",
    "    pickle.dump(naver_news_content, f)"
   ]
  }
 ],
 "metadata": {
  "kernelspec": {
   "display_name": "DH",
   "language": "python",
   "name": "dh"
  },
  "language_info": {
   "codemirror_mode": {
    "name": "ipython",
    "version": 3
   },
   "file_extension": ".py",
   "mimetype": "text/x-python",
   "name": "python",
   "nbconvert_exporter": "python",
   "pygments_lexer": "ipython3",
   "version": "3.8.10"
  }
 },
 "nbformat": 4,
 "nbformat_minor": 2
}
