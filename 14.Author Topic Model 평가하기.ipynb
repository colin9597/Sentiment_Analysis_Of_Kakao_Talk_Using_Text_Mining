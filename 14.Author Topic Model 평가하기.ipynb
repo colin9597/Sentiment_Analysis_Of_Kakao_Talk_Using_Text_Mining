{
 "cells": [
  {
   "cell_type": "code",
   "execution_count": 1,
   "metadata": {},
   "outputs": [
    {
     "name": "stderr",
     "output_type": "stream",
     "text": [
      "C:\\Users\\colin\\anaconda3\\envs\\DH\\lib\\site-packages\\gensim\\similarities\\__init__.py:15: UserWarning: The gensim.similarities.levenshtein submodule is disabled, because the optional Levenshtein package <https://pypi.org/project/python-Levenshtein/> is unavailable. Install Levenhstein (e.g. `pip install python-Levenshtein`) to suppress this warning.\n",
      "  warnings.warn(msg)\n"
     ]
    }
   ],
   "source": [
    "from gensim.models import AuthorTopicModel\n",
    "from gensim.corpora import Dictionary, bleicorpus\n",
    "from gensim import corpora\n",
    "from tqdm import tqdm_notebook\n",
    "from pprint import pprint\n",
    "\n",
    "# 사용자간의 유사성을 평가하기 위한 measure를 사용하기 위해 불러오기\n",
    "from gensim.matutils import hellinger\n",
    "from gensim import matutils\n",
    "\n",
    "import pandas as pd\n",
    "import os"
   ]
  },
  {
   "cell_type": "code",
   "execution_count": 2,
   "metadata": {},
   "outputs": [],
   "source": [
    "NUM_TOPICS = 4\n",
    "\n",
    "if not os.path.exists(\"kakao(ATM)_model\"):\n",
    "    model = AuthorTopicModel(corpus=corpus, num_topics=NUM_TOPICS, id2word=dictionary.id2token, \\\n",
    "                author2doc=author2doc, passes=10)\n",
    "    model.save('kakao(ATM)_model')\n",
    "else:\n",
    "    model = AuthorTopicModel.load(\"kakao(ATM)_model\")"
   ]
  },
  {
   "cell_type": "code",
   "execution_count": 3,
   "metadata": {},
   "outputs": [
    {
     "data": {
      "text/plain": [
       "[('난', 0.012260236931585794),\n",
       " ('아', 0.011676997276547715),\n",
       " ('락원이', 0.010431516849827774),\n",
       " ('동현이', 0.005928134762841963),\n",
       " ('오늘', 0.005294233510440971),\n",
       " ('다', 0.005287299506846207),\n",
       " ('내가', 0.005243276235309308),\n",
       " ('근데', 0.004646346629371917),\n",
       " ('나', 0.004085344852820157),\n",
       " ('아니', 0.004019273777094868),\n",
       " ('진짜', 0.004006107460260246),\n",
       " ('더', 0.004005512804978402),\n",
       " ('내일', 0.0034142604828852276),\n",
       " ('그럼', 0.003364904612905689),\n",
       " ('이걸', 0.003364637952624334),\n",
       " ('니', 0.002730084928202692),\n",
       " ('좀', 0.002724732961971116),\n",
       " ('락', 0.002723984236604207),\n",
       " ('너가', 0.0027237221128403382),\n",
       " ('이거', 0.0027237196641392526)]"
      ]
     },
     "execution_count": 3,
     "metadata": {},
     "output_type": "execute_result"
    }
   ],
   "source": [
    "# 토픽별 분포 확인하기\n",
    "model.show_topic(1, topn=20)"
   ]
  },
  {
   "cell_type": "code",
   "execution_count": 4,
   "metadata": {},
   "outputs": [],
   "source": [
    "# 토픽 라벨 지정.\n",
    "topic_labels = [\"Topic0\", \"Topic1\", \"Topic2\", \"Topic3\"]"
   ]
  },
  {
   "cell_type": "code",
   "execution_count": 5,
   "metadata": {},
   "outputs": [
    {
     "name": "stdout",
     "output_type": "stream",
     "text": [
      "Label : Topic0\n",
      "Words : 왜 형 오늘 락원이 또 진짜 그럼 같이 락원아 새도 태환이형 아 좀 나 니 벡해 배드민턴 걍 그냥 혹시 \n",
      "\n",
      "Label : Topic1\n",
      "Words : 난 아 락원이 동현이 오늘 다 내가 근데 나 아니 진짜 더 내일 그럼 이걸 니 좀 락 너가 이거 \n",
      "\n",
      "Label : Topic2\n",
      "Words : 태환 나 난 진짜 이렇게 근데 락원이 동현이 니 왜 아 락원 있음 락원이는 동현 야 하고 그리고 에어 에어가 \n",
      "\n",
      "Label : Topic3\n",
      "Words : 오늘 1 어떻게 내 니는 진짜 락원이 락원이는 왜 배드민턴 현직이 나 살짝 파이썬 니한테 다 아니고 머리 언제 아니 \n",
      "\n"
     ]
    }
   ],
   "source": [
    "# 토픽별로 topN 단어 확인하기.\n",
    "for topics in model.show_topics(model.num_topics):\n",
    "    print(\"Label : \" + topic_labels[topics[0]])\n",
    "    words = \"\"\n",
    "    for word, prob in model.show_topic(topics[0], topn=20):\n",
    "        words += word + \" \"\n",
    "    print(\"Words :\", words)\n",
    "    print()\n"
   ]
  },
  {
   "cell_type": "code",
   "execution_count": 6,
   "metadata": {},
   "outputs": [
    {
     "data": {
      "text/plain": [
       "[(0, 0.9930031666683617)]"
      ]
     },
     "execution_count": 6,
     "metadata": {},
     "output_type": "execute_result"
    }
   ],
   "source": [
    "model[\"김동현\"]"
   ]
  },
  {
   "cell_type": "code",
   "execution_count": 7,
   "metadata": {},
   "outputs": [],
   "source": [
    "# 사용자별로 토픽 분포 확인하기.\n",
    "def show_authors(name):\n",
    "    print(\"User :\", name)\n",
    "    print(\"Docs :\", model.author2doc[name])\n",
    "    print(\"\\nTopic Distribution : \")\n",
    "    pprint([(topic_labels[topic[0]], topic[1]) for topic in model[name]])"
   ]
  },
  {
   "cell_type": "code",
   "execution_count": 8,
   "metadata": {},
   "outputs": [
    {
     "name": "stdout",
     "output_type": "stream",
     "text": [
      "User : 김동현\n",
      "Docs : [102, 104, 135, 136, 148, 150, 152, 205, 206, 211, 212, 216, 239, 401, 402, 405, 406, 427, 431, 468, 470, 475, 476, 477, 482, 487, 488, 489, 492, 495, 498, 548, 584, 585, 586, 668, 669, 693, 701, 934, 960, 964, 973, 974]\n",
      "\n",
      "Topic Distribution : \n",
      "[('Topic0', 0.9930031666683617)]\n"
     ]
    }
   ],
   "source": [
    "# \"네오\"의 토픽 분포 확인.\n",
    "show_authors(\"김동현\")"
   ]
  },
  {
   "cell_type": "code",
   "execution_count": 9,
   "metadata": {},
   "outputs": [
    {
     "data": {
      "text/plain": [
       "[[(0, 0.9930031666683617)],\n",
       " [(1, 0.9961430204373166)],\n",
       " [(1, 0.9993083076621049)],\n",
       " [(2, 0.9983250949373436)],\n",
       " [(3, 0.990095725131695)],\n",
       " [(0, 0.9958453399102004)]]"
      ]
     },
     "execution_count": 9,
     "metadata": {},
     "output_type": "execute_result"
    }
   ],
   "source": [
    "[model[author] for author in model.id2author.values()]"
   ]
  },
  {
   "cell_type": "code",
   "execution_count": 10,
   "metadata": {},
   "outputs": [
    {
     "data": {
      "text/plain": [
       "['김동현', '김락원 형 15', '김태환 형 17', '김표선 형 16', '이현직 16', '허정훈이 형 15']"
      ]
     },
     "execution_count": 10,
     "metadata": {},
     "output_type": "execute_result"
    }
   ],
   "source": [
    "[author for author in model.id2author.values()]"
   ]
  },
  {
   "cell_type": "code",
   "execution_count": 11,
   "metadata": {},
   "outputs": [],
   "source": [
    "# Hellinger Distance를 이용하여 비슷한 토픽을 가진 사용자를 추정하는 함수.\n",
    "\n",
    "\n",
    "# author-topic 분포 만들기\n",
    "author_vecs = [model[author] for author in model.id2author.values()]\n",
    " \n",
    "def similarity(vec1, vec2):\n",
    "    '''Get similarity between two vectors'''\n",
    "    dist = hellinger(matutils.sparse2full(vec1, model.num_topics),\n",
    "                     matutils.sparse2full(vec2, model.num_topics))\n",
    "    sim = 1.0 / (1.0 + dist)\n",
    "    \n",
    "    return sim\n",
    " \n",
    "def get_sims(vec):\n",
    "    '''Get similarity of vector to all authors.'''\n",
    "    sims = [similarity(vec, vec2) for vec2 in author_vecs]\n",
    "    return sims\n",
    " \n",
    "def get_table(name, top_n=10, smallest_author=1):\n",
    "    '''\n",
    "    Get table with similarities, author names, and author sizes.\n",
    "    Return `top_n` authors as a dataframe.\n",
    "    \n",
    "    '''\n",
    "    \n",
    "    # 유사도 측정하기\n",
    "    sims = get_sims(model[name])\n",
    " \n",
    "    # 저자별 정보 정렬하기\n",
    "    table = []\n",
    "    for elem in enumerate(sims):\n",
    "        author_name = model.id2author[elem[0]]\n",
    "        sim = elem[1]\n",
    "        author_size = len(model.author2doc[author_name])\n",
    "        \n",
    "        table.append((author_name, sim, author_size))\n",
    "    \n",
    "    # 사용자 패턴 분석 결과를 Dataframe으로 만들기\n",
    "    df = pd.DataFrame(table, columns=[\"Author\", \"Score\", \"Size\"])\n",
    "    df = df.sort_values(\"Score\", ascending=False)[:top_n]\n",
    "    \n",
    "    \n",
    "    return df"
   ]
  },
  {
   "cell_type": "code",
   "execution_count": 12,
   "metadata": {},
   "outputs": [
    {
     "data": {
      "text/html": [
       "<div>\n",
       "<style scoped>\n",
       "    .dataframe tbody tr th:only-of-type {\n",
       "        vertical-align: middle;\n",
       "    }\n",
       "\n",
       "    .dataframe tbody tr th {\n",
       "        vertical-align: top;\n",
       "    }\n",
       "\n",
       "    .dataframe thead th {\n",
       "        text-align: right;\n",
       "    }\n",
       "</style>\n",
       "<table border=\"1\" class=\"dataframe\">\n",
       "  <thead>\n",
       "    <tr style=\"text-align: right;\">\n",
       "      <th></th>\n",
       "      <th>Author</th>\n",
       "      <th>Score</th>\n",
       "      <th>Size</th>\n",
       "    </tr>\n",
       "  </thead>\n",
       "  <tbody>\n",
       "    <tr>\n",
       "      <th>0</th>\n",
       "      <td>김동현</td>\n",
       "      <td>1.000000</td>\n",
       "      <td>44</td>\n",
       "    </tr>\n",
       "    <tr>\n",
       "      <th>5</th>\n",
       "      <td>허정훈이 형 15</td>\n",
       "      <td>0.998993</td>\n",
       "      <td>246</td>\n",
       "    </tr>\n",
       "    <tr>\n",
       "      <th>4</th>\n",
       "      <td>이현직 16</td>\n",
       "      <td>0.501061</td>\n",
       "      <td>63</td>\n",
       "    </tr>\n",
       "    <tr>\n",
       "      <th>1</th>\n",
       "      <td>김락원 형 15</td>\n",
       "      <td>0.500680</td>\n",
       "      <td>60</td>\n",
       "    </tr>\n",
       "    <tr>\n",
       "      <th>3</th>\n",
       "      <td>김표선 형 16</td>\n",
       "      <td>0.500543</td>\n",
       "      <td>250</td>\n",
       "    </tr>\n",
       "    <tr>\n",
       "      <th>2</th>\n",
       "      <td>김태환 형 17</td>\n",
       "      <td>0.500481</td>\n",
       "      <td>317</td>\n",
       "    </tr>\n",
       "  </tbody>\n",
       "</table>\n",
       "</div>"
      ],
      "text/plain": [
       "      Author     Score  Size\n",
       "0        김동현  1.000000    44\n",
       "5  허정훈이 형 15  0.998993   246\n",
       "4     이현직 16  0.501061    63\n",
       "1   김락원 형 15  0.500680    60\n",
       "3   김표선 형 16  0.500543   250\n",
       "2   김태환 형 17  0.500481   317"
      ]
     },
     "execution_count": 12,
     "metadata": {},
     "output_type": "execute_result"
    }
   ],
   "source": [
    "# 사용자별 대화 패턴 검증\n",
    "get_table(\"김동현\")"
   ]
  },
  {
   "cell_type": "markdown",
   "metadata": {},
   "source": [
    "> '김동현'은 말을 44번 했고, 말을 246번 한 '허정훈이 형 15'와 가장 비슷"
   ]
  }
 ],
 "metadata": {
  "kernelspec": {
   "display_name": "DH",
   "language": "python",
   "name": "dh"
  },
  "language_info": {
   "codemirror_mode": {
    "name": "ipython",
    "version": 3
   },
   "file_extension": ".py",
   "mimetype": "text/x-python",
   "name": "python",
   "nbconvert_exporter": "python",
   "pygments_lexer": "ipython3",
   "version": "3.8.10"
  }
 },
 "nbformat": 4,
 "nbformat_minor": 2
}
