{
 "cells": [
  {
   "cell_type": "markdown",
   "metadata": {},
   "source": [
    "### 0. 비교분석을 위해 LDA model 만들기."
   ]
  },
  {
   "cell_type": "code",
   "execution_count": 1,
   "metadata": {},
   "outputs": [],
   "source": [
    "import pandas as pd\n",
    "import numpy as np\n",
    "import pickle\n",
    "from pprint import pprint\n",
    "import re"
   ]
  },
  {
   "cell_type": "code",
   "execution_count": 2,
   "metadata": {},
   "outputs": [
    {
     "name": "stdout",
     "output_type": "stream",
     "text": [
      "         Date   Speaker timetype   time contents\n",
      "0  2021-06-14  김태환 형 17       오전   6:01      고민중\n",
      "1  2021-06-14    이현직 16       오전   8:00      셤잘쳐\n",
      "2  2021-06-14  김태환 형 17       오전   8:00      귀여워\n",
      "3  2021-06-14  김태환 형 17       오전  10:07       시발\n",
      "4  2021-06-14  김태환 형 17       오전  10:08   담배가 쓰다\n",
      "<class 'pandas.core.frame.DataFrame'>\n",
      "RangeIndex: 980 entries, 0 to 979\n",
      "Data columns (total 5 columns):\n",
      " #   Column    Non-Null Count  Dtype \n",
      "---  ------    --------------  ----- \n",
      " 0   Date      980 non-null    object\n",
      " 1   Speaker   980 non-null    object\n",
      " 2   timetype  980 non-null    object\n",
      " 3   time      980 non-null    object\n",
      " 4   contents  980 non-null    object\n",
      "dtypes: object(5)\n",
      "memory usage: 38.4+ KB\n",
      "None\n"
     ]
    }
   ],
   "source": [
    "with open(\"./cleaned_data.pk\", \"rb\") as f:\n",
    "    data = pickle.load(f)\n",
    "\n",
    "data.reset_index(drop=True, inplace=True)\n",
    "print(data.head())\n",
    "print(data.info())"
   ]
  },
  {
   "cell_type": "markdown",
   "metadata": {},
   "source": [
    "### 2. 초록 없는 데이터 제거  및 분석시기 설정하기"
   ]
  },
  {
   "cell_type": "code",
   "execution_count": 3,
   "metadata": {},
   "outputs": [
    {
     "data": {
      "text/html": [
       "<div>\n",
       "<style scoped>\n",
       "    .dataframe tbody tr th:only-of-type {\n",
       "        vertical-align: middle;\n",
       "    }\n",
       "\n",
       "    .dataframe tbody tr th {\n",
       "        vertical-align: top;\n",
       "    }\n",
       "\n",
       "    .dataframe thead th {\n",
       "        text-align: right;\n",
       "    }\n",
       "</style>\n",
       "<table border=\"1\" class=\"dataframe\">\n",
       "  <thead>\n",
       "    <tr style=\"text-align: right;\">\n",
       "      <th></th>\n",
       "      <th>Speaker</th>\n",
       "      <th>timetype</th>\n",
       "      <th>time</th>\n",
       "      <th>contents</th>\n",
       "    </tr>\n",
       "    <tr>\n",
       "      <th>Date</th>\n",
       "      <th></th>\n",
       "      <th></th>\n",
       "      <th></th>\n",
       "      <th></th>\n",
       "    </tr>\n",
       "  </thead>\n",
       "  <tbody>\n",
       "    <tr>\n",
       "      <th>2021-06-14</th>\n",
       "      <td>김태환 형 17</td>\n",
       "      <td>오전</td>\n",
       "      <td>6:01</td>\n",
       "      <td>고민중</td>\n",
       "    </tr>\n",
       "    <tr>\n",
       "      <th>2021-06-14</th>\n",
       "      <td>이현직 16</td>\n",
       "      <td>오전</td>\n",
       "      <td>8:00</td>\n",
       "      <td>셤잘쳐</td>\n",
       "    </tr>\n",
       "    <tr>\n",
       "      <th>2021-06-14</th>\n",
       "      <td>김태환 형 17</td>\n",
       "      <td>오전</td>\n",
       "      <td>8:00</td>\n",
       "      <td>귀여워</td>\n",
       "    </tr>\n",
       "    <tr>\n",
       "      <th>2021-06-14</th>\n",
       "      <td>김태환 형 17</td>\n",
       "      <td>오전</td>\n",
       "      <td>10:07</td>\n",
       "      <td>시발</td>\n",
       "    </tr>\n",
       "    <tr>\n",
       "      <th>2021-06-14</th>\n",
       "      <td>김태환 형 17</td>\n",
       "      <td>오전</td>\n",
       "      <td>10:08</td>\n",
       "      <td>담배가 쓰다</td>\n",
       "    </tr>\n",
       "  </tbody>\n",
       "</table>\n",
       "</div>"
      ],
      "text/plain": [
       "             Speaker timetype   time contents\n",
       "Date                                         \n",
       "2021-06-14  김태환 형 17       오전   6:01      고민중\n",
       "2021-06-14    이현직 16       오전   8:00      셤잘쳐\n",
       "2021-06-14  김태환 형 17       오전   8:00      귀여워\n",
       "2021-06-14  김태환 형 17       오전  10:07       시발\n",
       "2021-06-14  김태환 형 17       오전  10:08   담배가 쓰다"
      ]
     },
     "execution_count": 3,
     "metadata": {},
     "output_type": "execute_result"
    }
   ],
   "source": [
    "# 시간정보 열 datetime 정보로 변환\n",
    "data['Date'] = pd.to_datetime(data['Date'])\n",
    "# 인덱스 넣기\n",
    "data = data.set_index('Date')\n",
    "data.head()"
   ]
  },
  {
   "cell_type": "code",
   "execution_count": 4,
   "metadata": {},
   "outputs": [
    {
     "name": "stdout",
     "output_type": "stream",
     "text": [
      "[['위상', '진짜', 'takehome', '시험인데', '30점만점에', '평균이', '어떻게', '17점이나오지'], ['구글링도', '허용인데', '이걸', '던지는', '놈들이', '있네'], ['17점이면'], ['잘나온거아니냐'], ['구글이랑', '강의노트', '보면', '반', '이상은', '나오는데'], ['아', '모기한테', '엉덩이', '물림'], ['프레드릭소렌드', '썅년', '꺼지라'], ['왜', '취소함'], ['걍', '들으셈'], ['개같은련이']]\n",
      "206\n"
     ]
    }
   ],
   "source": [
    "# LDA를 위해 10일대 데이터만 불러오기.\n",
    "day20 = data[\"2021-06-20\" : \"2021-06-29\"]\n",
    "slice20 = list(day20[\"contents\"])\n",
    "\n",
    "tokenized_data = [msg.split() for msg in slice20]\n",
    "print(tokenized_data[:10])\n",
    "print(len(tokenized_data))"
   ]
  },
  {
   "cell_type": "markdown",
   "metadata": {},
   "source": [
    "### 3. LDA & Dynamic Topic Model 돌리기"
   ]
  },
  {
   "cell_type": "code",
   "execution_count": 5,
   "metadata": {},
   "outputs": [
    {
     "name": "stderr",
     "output_type": "stream",
     "text": [
      "C:\\Users\\colin\\anaconda3\\envs\\DH\\lib\\site-packages\\gensim\\similarities\\__init__.py:15: UserWarning: The gensim.similarities.levenshtein submodule is disabled, because the optional Levenshtein package <https://pypi.org/project/python-Levenshtein/> is unavailable. Install Levenhstein (e.g. `pip install python-Levenshtein`) to suppress this warning.\n",
      "  warnings.warn(msg)\n"
     ]
    }
   ],
   "source": [
    "from gensim.models import ldamodel\n",
    "from gensim.models import ldaseqmodel\n",
    "from gensim.models import CoherenceModel\n",
    "from gensim.corpora import Dictionary, bleicorpus\n",
    "from gensim.matutils import hellinger\n",
    "from gensim import corpora\n",
    "from tqdm import tqdm_notebook\n",
    "from time import time\n",
    "\n",
    "import os"
   ]
  },
  {
   "cell_type": "markdown",
   "metadata": {},
   "source": [
    "##### dictionary와 doc2bow 만들기 ( LDA에서 20일대인 것만 사용)"
   ]
  },
  {
   "cell_type": "code",
   "execution_count": 6,
   "metadata": {},
   "outputs": [
    {
     "name": "stdout",
     "output_type": "stream",
     "text": [
      "Dictionary(460 unique tokens: ['17점이나오지', '30점만점에', 'takehome', '시험인데', '어떻게']...)\n"
     ]
    }
   ],
   "source": [
    "# Create Dictionary\n",
    "if not os.path.exists('kakao(LDA)_dict'):\n",
    "    dictionary = corpora.Dictionary(tokenized_data)\n",
    "    #dictionary.filter_extremes(no_below=5, no_above=500)  # 이 줄의 코드는 n회 미만 또는 n회 이상을 지울 때 사용\n",
    "    dictionary.save('kakao(LDA)_dict')\n",
    "    print(dictionary)\n",
    "else:\n",
    "    dictionary = Dictionary.load('kakao(LDA)_dict')\n",
    "\n",
    "# Term Document Frequency (convert tokenized documents into a Document-Term Matrix)    \n",
    "if not os.path.exists('kakao(LDA)_corpus'):\n",
    "    corpus = [dictionary.doc2bow(doc) for doc in tokenized_data]\n",
    "    corpora.BleiCorpus.serialize('kakao(LDA)_corpus', corpus)\n",
    "else:\n",
    "    corpus = bleicorpus.BleiCorpus('kakao(LDA)_corpus')"
   ]
  },
  {
   "cell_type": "markdown",
   "metadata": {},
   "source": [
    "##### Run LDA model "
   ]
  },
  {
   "cell_type": "code",
   "execution_count": 7,
   "metadata": {},
   "outputs": [],
   "source": [
    "# DTM 분석에서 best topic으로 나온 결과를 비교하기 위해 같은 토픽 수로 설정.\n",
    "NUM_TOPICS = 8\n",
    "\n",
    "if not os.path.exists('kakao(LDA)_model'):\n",
    "    lda_model = ldamodel.LdaModel(corpus=corpus, id2word=dictionary, num_topics=NUM_TOPICS, passes=10)\n",
    "    lda_model.save('kakao(LDA)_model')\n",
    "else:\n",
    "    lda_model = ldamodel.LdaModel.load('kakao(LDA)_model')"
   ]
  },
  {
   "cell_type": "markdown",
   "metadata": {},
   "source": [
    "##### Run DTM Model"
   ]
  },
  {
   "cell_type": "code",
   "execution_count": 8,
   "metadata": {},
   "outputs": [],
   "source": [
    "# DTM 분석에서 best topic으로 나온 결과를 비교하기 위해 같은 토픽 수로 설정.\n",
    "NUM_TOPICS = 8\n",
    "\n",
    "dtm_model = ldaseqmodel.LdaSeqModel.load('kakao_dtm_model_8')"
   ]
  },
  {
   "cell_type": "markdown",
   "metadata": {},
   "source": [
    "##### LDA와 DTM 결과 비교해보기"
   ]
  },
  {
   "cell_type": "code",
   "execution_count": 9,
   "metadata": {},
   "outputs": [
    {
     "data": {
      "text/plain": [
       "[('다', 0.014916272),\n",
       " ('락원아', 0.014915749),\n",
       " ('진짜', 0.014914357),\n",
       " ('집에서', 0.014852213),\n",
       " ('이걸', 0.007897338),\n",
       " ('토플', 0.007897036),\n",
       " ('아니', 0.007896608),\n",
       " ('야', 0.007896526),\n",
       " ('이상은', 0.007896374),\n",
       " ('강의노트', 0.007896374),\n",
       " ('놈들이', 0.007896374),\n",
       " ('그럴거야', 0.007896374),\n",
       " ('시험', 0.007896373),\n",
       " ('보면', 0.00789637),\n",
       " ('던지는', 0.007896369),\n",
       " ('반', 0.007896367),\n",
       " ('끝나자마자', 0.0078963665),\n",
       " ('나오는데', 0.007896366),\n",
       " ('구글이랑', 0.007896366),\n",
       " ('허용인데', 0.007896365),\n",
       " ('구글링도', 0.007896364),\n",
       " ('좆지랄해야하는데', 0.007896363),\n",
       " ('코드', 0.007896363),\n",
       " ('있네', 0.007896362),\n",
       " ('입력해서', 0.007896359),\n",
       " ('있는', 0.007896359),\n",
       " ('책에', 0.007896358),\n",
       " ('새끼들', 0.007896349),\n",
       " ('이제', 0.007896348),\n",
       " ('그건', 0.007896346)]"
      ]
     },
     "execution_count": 9,
     "metadata": {},
     "output_type": "execute_result"
    }
   ],
   "source": [
    "lda_model.show_topic(topicid=0, topn=30)"
   ]
  },
  {
   "cell_type": "code",
   "execution_count": 10,
   "metadata": {
    "scrolled": false
   },
   "outputs": [
    {
     "data": {
      "text/plain": [
       "[('락원이', 0.043773045261198656),\n",
       " ('근데', 0.015395867894693218),\n",
       " ('난', 0.015376082669562426),\n",
       " ('그냥', 0.014980014261704736),\n",
       " ('니', 0.012296753140714817),\n",
       " ('내일', 0.012269519698708608),\n",
       " ('아', 0.012267615419440969),\n",
       " ('나', 0.012265783201230607),\n",
       " ('오', 0.012214896412748154),\n",
       " ('오늘', 0.012074870422137661),\n",
       " ('진짜', 0.009236384252761767),\n",
       " ('정훈아', 0.009229398985270667),\n",
       " ('with', 0.0092284050728445),\n",
       " ('아까', 0.009228189342547622),\n",
       " ('옷이랑', 0.009228189342547622),\n",
       " ('입는', 0.009228189342547622),\n",
       " ('좀', 0.009228189342547622),\n",
       " ('이렇게', 0.009228189342547615),\n",
       " ('홀리', 0.009228189342547615),\n",
       " ('도서관', 0.009224228878758987),\n",
       " ('추운데', 0.009224228878758987),\n",
       " ('요새', 0.009210241417696486),\n",
       " ('낫네', 0.009210241417696462),\n",
       " ('내가', 0.0038721881637046734),\n",
       " ('고민중', 0.0033887326791533635),\n",
       " ('함', 0.002692003527814055),\n",
       " ('저', 0.002692003527814055),\n",
       " ('락', 0.002692003527814055),\n",
       " ('풀약', 0.0026920035278140526),\n",
       " ('목금', 0.0026669014143137393)]"
      ]
     },
     "execution_count": 10,
     "metadata": {},
     "output_type": "execute_result"
    }
   ],
   "source": [
    "dtm_model.print_topic(topic=0, time=0, top_terms=30)"
   ]
  },
  {
   "cell_type": "markdown",
   "metadata": {},
   "source": [
    "##### coherence score 계산 비교"
   ]
  },
  {
   "cell_type": "code",
   "execution_count": 11,
   "metadata": {},
   "outputs": [],
   "source": [
    "# DTM coherence score 비교를 위해 데이터 불러오기.\n",
    "\n",
    "dtm_corpus = corpus = bleicorpus.BleiCorpus('kakao(DTM)_corpus')\n",
    "dtm_dictionary = Dictionary.load('kakao(DTM)_dict')\n",
    "processing_data = [msg.split() for msg in data['contents']]"
   ]
  },
  {
   "cell_type": "code",
   "execution_count": 12,
   "metadata": {},
   "outputs": [],
   "source": [
    "# 각 모델별 coherence score 계산.\n",
    "lda_cs = CoherenceModel(model=lda_model, texts=tokenized_data, corpus=corpus, dictionary=dictionary, coherence='c_v').get_coherence()\n",
    "topics_dtm = dtm_model.dtm_coherence(time=2)\n",
    "dtm_cs = CoherenceModel(topics=topics_dtm, texts=processing_data, corpus=dtm_corpus, dictionary=dtm_dictionary, coherence='c_v').get_coherence()"
   ]
  },
  {
   "cell_type": "code",
   "execution_count": 13,
   "metadata": {},
   "outputs": [
    {
     "name": "stdout",
     "output_type": "stream",
     "text": [
      "Coherence Score for LDA : 0.535\n",
      "Coherence Score for DTM : 0.757\n"
     ]
    }
   ],
   "source": [
    "# 결과 확인.\n",
    "print(\"Coherence Score for LDA : %.3f\" % lda_cs)\n",
    "print(\"Coherence Score for DTM : %.3f\" % dtm_cs)"
   ]
  }
 ],
 "metadata": {
  "kernelspec": {
   "display_name": "DH",
   "language": "python",
   "name": "dh"
  },
  "language_info": {
   "codemirror_mode": {
    "name": "ipython",
    "version": 3
   },
   "file_extension": ".py",
   "mimetype": "text/x-python",
   "name": "python",
   "nbconvert_exporter": "python",
   "pygments_lexer": "ipython3",
   "version": "3.8.10"
  }
 },
 "nbformat": 4,
 "nbformat_minor": 2
}
